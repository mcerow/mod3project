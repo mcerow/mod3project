{
 "cells": [
  {
   "cell_type": "markdown",
   "metadata": {},
   "source": [
    "# Module 3 Project - Whisky Sommelier\n",
    "# Hypothesis Testing\n",
    "By: **Maura Cerow**, **Rajeev Panwar** and **Bryan Santos**"
   ]
  },
  {
   "cell_type": "markdown",
   "metadata": {},
   "source": [
    "This project aims to build the first module of a comprehensive whisky recommendation engine, an **automated whisky sommelier**. We would like this to act as a go-to \"middle-man\" between distributors, bars and consumers.\n",
    "\n",
    "This notebook in particular handles all the hypothesis testing. The point of the tests is to ensure that the independent variables we have chosen are significant as predictors of our dependent variable."
   ]
  },
  {
   "cell_type": "markdown",
   "metadata": {},
   "source": [
    "## Dataset"
   ]
  },
  {
   "cell_type": "markdown",
   "metadata": {},
   "source": [
    "After data cleaning, we have retained a total of 2,622 observations in our dataset. The following are our target and feature variables. We still plan to add some new predictors based on the resulting EDA and feature interactions. "
   ]
  },
  {
   "cell_type": "markdown",
   "metadata": {},
   "source": [
    "**Target**  \n",
    "- Whisky's country of origin: \n",
    "    - Scotland\n",
    "    - Japan\n",
    "    - USA\n",
    "    - Canada\n",
    "    - Ireland"
   ]
  },
  {
   "cell_type": "markdown",
   "metadata": {},
   "source": [
    "**Features**\n",
    "- Type (whether it is Single Malt, Blended, Rye, etc.)\n",
    "- Price (ranging from 1 to 5 with 5 being the most expensive)\n",
    "- Expert Score (critic score)\n",
    "- User Rating (distiller.com user reviews)\n",
    "- ABV (Alcohol By Volume)\n",
    "- Description\n",
    "- Style (ingredients)\n",
    "- Maturing/Cask (whether matured in Oak, Sherry, etc.)\n",
    "- Flavor Profiles (each having intensity scores ranging from 0 to 100):\n",
    "    - *Smoky*\n",
    "    - *Peaty*\n",
    "    - *Spicy*\n",
    "    - *Herbal*\n",
    "    - *Oily*\n",
    "    - *Full-Bodied*\n",
    "    - *Rich*\n",
    "    - *Sweet*\n",
    "    - *Briny*\n",
    "    - *Salty*\n",
    "    - *Vanilla*\n",
    "    - *Tart*\n",
    "    - *Fruity*\n",
    "    - *Floral*"
   ]
  },
  {
   "cell_type": "markdown",
   "metadata": {},
   "source": [
    "## Package Imports and Data Load"
   ]
  },
  {
   "cell_type": "code",
   "execution_count": 129,
   "metadata": {},
   "outputs": [],
   "source": [
    "import numpy as np\n",
    "import pandas as pd\n",
    "import matplotlib.pyplot as plt\n",
    "import seaborn as sns\n",
    "from statsmodels.formula.api import ols\n",
    "import statsmodels.api as sm\n",
    "from statsmodels.stats.multicomp import pairwise_tukeyhsd\n",
    "from statsmodels.stats.multicomp import MultiComparison\n",
    "import scipy.stats as stats\n",
    "import scipy\n",
    "\n",
    "sns.set()\n",
    "%matplotlib inline\n",
    "\n",
    "### Suppress notebook warnings ###\n",
    "import warnings\n",
    "warnings.filterwarnings('ignore')\n",
    "\n",
    "### Pandas settings to avoid exponential form and display all columns ###\n",
    "pd.set_option('display.float_format', lambda x: '%.3f' % x)\n",
    "pd.set_option('display.max_columns', None)"
   ]
  },
  {
   "cell_type": "code",
   "execution_count": 2,
   "metadata": {},
   "outputs": [],
   "source": [
    "df = pd.read_csv(\"whisky_df_clean.csv\", sep=',')"
   ]
  },
  {
   "cell_type": "code",
   "execution_count": 3,
   "metadata": {},
   "outputs": [
    {
     "data": {
      "text/html": [
       "<div>\n",
       "<style scoped>\n",
       "    .dataframe tbody tr th:only-of-type {\n",
       "        vertical-align: middle;\n",
       "    }\n",
       "\n",
       "    .dataframe tbody tr th {\n",
       "        vertical-align: top;\n",
       "    }\n",
       "\n",
       "    .dataframe thead th {\n",
       "        text-align: right;\n",
       "    }\n",
       "</style>\n",
       "<table border=\"1\" class=\"dataframe\">\n",
       "  <thead>\n",
       "    <tr style=\"text-align: right;\">\n",
       "      <th></th>\n",
       "      <th>name</th>\n",
       "      <th>type</th>\n",
       "      <th>price</th>\n",
       "      <th>expert_score</th>\n",
       "      <th>user_rating</th>\n",
       "      <th>description</th>\n",
       "      <th>abv</th>\n",
       "      <th>style</th>\n",
       "      <th>cask</th>\n",
       "      <th>review</th>\n",
       "      <th>smoky</th>\n",
       "      <th>peaty</th>\n",
       "      <th>spicy</th>\n",
       "      <th>herbal</th>\n",
       "      <th>oily</th>\n",
       "      <th>full-bodied</th>\n",
       "      <th>rich</th>\n",
       "      <th>sweet</th>\n",
       "      <th>briny</th>\n",
       "      <th>salty</th>\n",
       "      <th>vanilla</th>\n",
       "      <th>tart</th>\n",
       "      <th>fruity</th>\n",
       "      <th>floral</th>\n",
       "      <th>country</th>\n",
       "    </tr>\n",
       "  </thead>\n",
       "  <tbody>\n",
       "    <tr>\n",
       "      <td>0</td>\n",
       "      <td>Hibiki 21 Year</td>\n",
       "      <td>Blended</td>\n",
       "      <td>5</td>\n",
       "      <td>99</td>\n",
       "      <td>4.520</td>\n",
       "      <td>Hibiki is the blended whisky brand produced by...</td>\n",
       "      <td>43.000</td>\n",
       "      <td>Comprised of both single malt(s) and single gr...</td>\n",
       "      <td>ex-bourbon American oak, ex-sherry European oa...</td>\n",
       "      <td>\"Tasting this whisky was one of those moments ...</td>\n",
       "      <td>30</td>\n",
       "      <td>30</td>\n",
       "      <td>50</td>\n",
       "      <td>30</td>\n",
       "      <td>20</td>\n",
       "      <td>80</td>\n",
       "      <td>80</td>\n",
       "      <td>85</td>\n",
       "      <td>0</td>\n",
       "      <td>15</td>\n",
       "      <td>20</td>\n",
       "      <td>25</td>\n",
       "      <td>85</td>\n",
       "      <td>50</td>\n",
       "      <td>4</td>\n",
       "    </tr>\n",
       "    <tr>\n",
       "      <td>1</td>\n",
       "      <td>Highland Park 18 Year</td>\n",
       "      <td>Peated Single Malt</td>\n",
       "      <td>4</td>\n",
       "      <td>99</td>\n",
       "      <td>4.490</td>\n",
       "      <td>Shudder to think that Highland Park 18 has onl...</td>\n",
       "      <td>43.000</td>\n",
       "      <td>100% malted barley from a single distillery. D...</td>\n",
       "      <td>ex-sherry</td>\n",
       "      <td>\"The sweet smoke is the underlying feature in ...</td>\n",
       "      <td>40</td>\n",
       "      <td>40</td>\n",
       "      <td>40</td>\n",
       "      <td>20</td>\n",
       "      <td>40</td>\n",
       "      <td>70</td>\n",
       "      <td>80</td>\n",
       "      <td>70</td>\n",
       "      <td>20</td>\n",
       "      <td>40</td>\n",
       "      <td>50</td>\n",
       "      <td>50</td>\n",
       "      <td>70</td>\n",
       "      <td>20</td>\n",
       "      <td>0</td>\n",
       "    </tr>\n",
       "    <tr>\n",
       "      <td>2</td>\n",
       "      <td>George T. Stagg Bourbon (Fall 2019)</td>\n",
       "      <td>Bourbon</td>\n",
       "      <td>4</td>\n",
       "      <td>98</td>\n",
       "      <td>4.590</td>\n",
       "      <td>George T. Stagg Bourbon (Fall 2019) is an uncu...</td>\n",
       "      <td>58.450</td>\n",
       "      <td>Produced anywhere in USA; Mash bill of at leas...</td>\n",
       "      <td>new, charred American oak</td>\n",
       "      <td>\"Lots of oak shows up on the nose along with c...</td>\n",
       "      <td>40</td>\n",
       "      <td>40</td>\n",
       "      <td>65</td>\n",
       "      <td>50</td>\n",
       "      <td>20</td>\n",
       "      <td>60</td>\n",
       "      <td>60</td>\n",
       "      <td>45</td>\n",
       "      <td>0</td>\n",
       "      <td>0</td>\n",
       "      <td>60</td>\n",
       "      <td>60</td>\n",
       "      <td>45</td>\n",
       "      <td>0</td>\n",
       "      <td>1</td>\n",
       "    </tr>\n",
       "    <tr>\n",
       "      <td>3</td>\n",
       "      <td>Bowmore Mizunara Cask Finish</td>\n",
       "      <td>Peated Single Malt</td>\n",
       "      <td>5</td>\n",
       "      <td>98</td>\n",
       "      <td>4.190</td>\n",
       "      <td>This is the first-ever official Islay single m...</td>\n",
       "      <td>53.900</td>\n",
       "      <td>100% malted barley from a single distillery. D...</td>\n",
       "      <td>ex-bourbon, ex-sherry, new Mizunara oak</td>\n",
       "      <td>\"Though the time in Mizunara oak was relativel...</td>\n",
       "      <td>30</td>\n",
       "      <td>30</td>\n",
       "      <td>40</td>\n",
       "      <td>30</td>\n",
       "      <td>10</td>\n",
       "      <td>75</td>\n",
       "      <td>75</td>\n",
       "      <td>60</td>\n",
       "      <td>15</td>\n",
       "      <td>20</td>\n",
       "      <td>30</td>\n",
       "      <td>20</td>\n",
       "      <td>50</td>\n",
       "      <td>5</td>\n",
       "      <td>0</td>\n",
       "    </tr>\n",
       "    <tr>\n",
       "      <td>4</td>\n",
       "      <td>The Macallan M</td>\n",
       "      <td>Single Malt</td>\n",
       "      <td>5</td>\n",
       "      <td>98</td>\n",
       "      <td>4.190</td>\n",
       "      <td>A 6-litre Lalique decanter of this single malt...</td>\n",
       "      <td>47.700</td>\n",
       "      <td>Distilled in pot stills from 100% malted barle...</td>\n",
       "      <td>sherry oak casks</td>\n",
       "      <td>\"The aroma is that pleasing bouquet that comes...</td>\n",
       "      <td>50</td>\n",
       "      <td>50</td>\n",
       "      <td>60</td>\n",
       "      <td>0</td>\n",
       "      <td>15</td>\n",
       "      <td>90</td>\n",
       "      <td>100</td>\n",
       "      <td>50</td>\n",
       "      <td>0</td>\n",
       "      <td>0</td>\n",
       "      <td>20</td>\n",
       "      <td>20</td>\n",
       "      <td>80</td>\n",
       "      <td>10</td>\n",
       "      <td>0</td>\n",
       "    </tr>\n",
       "  </tbody>\n",
       "</table>\n",
       "</div>"
      ],
      "text/plain": [
       "                                  name                type  price  \\\n",
       "0                       Hibiki 21 Year             Blended      5   \n",
       "1                Highland Park 18 Year  Peated Single Malt      4   \n",
       "2  George T. Stagg Bourbon (Fall 2019)             Bourbon      4   \n",
       "3         Bowmore Mizunara Cask Finish  Peated Single Malt      5   \n",
       "4                       The Macallan M         Single Malt      5   \n",
       "\n",
       "   expert_score  user_rating  \\\n",
       "0            99        4.520   \n",
       "1            99        4.490   \n",
       "2            98        4.590   \n",
       "3            98        4.190   \n",
       "4            98        4.190   \n",
       "\n",
       "                                         description    abv  \\\n",
       "0  Hibiki is the blended whisky brand produced by... 43.000   \n",
       "1  Shudder to think that Highland Park 18 has onl... 43.000   \n",
       "2  George T. Stagg Bourbon (Fall 2019) is an uncu... 58.450   \n",
       "3  This is the first-ever official Islay single m... 53.900   \n",
       "4  A 6-litre Lalique decanter of this single malt... 47.700   \n",
       "\n",
       "                                               style  \\\n",
       "0  Comprised of both single malt(s) and single gr...   \n",
       "1  100% malted barley from a single distillery. D...   \n",
       "2  Produced anywhere in USA; Mash bill of at leas...   \n",
       "3  100% malted barley from a single distillery. D...   \n",
       "4  Distilled in pot stills from 100% malted barle...   \n",
       "\n",
       "                                                cask  \\\n",
       "0  ex-bourbon American oak, ex-sherry European oa...   \n",
       "1                                          ex-sherry   \n",
       "2                          new, charred American oak   \n",
       "3            ex-bourbon, ex-sherry, new Mizunara oak   \n",
       "4                                   sherry oak casks   \n",
       "\n",
       "                                              review  smoky  peaty  spicy  \\\n",
       "0  \"Tasting this whisky was one of those moments ...     30     30     50   \n",
       "1  \"The sweet smoke is the underlying feature in ...     40     40     40   \n",
       "2  \"Lots of oak shows up on the nose along with c...     40     40     65   \n",
       "3  \"Though the time in Mizunara oak was relativel...     30     30     40   \n",
       "4  \"The aroma is that pleasing bouquet that comes...     50     50     60   \n",
       "\n",
       "   herbal  oily  full-bodied  rich  sweet  briny  salty  vanilla  tart  \\\n",
       "0      30    20           80    80     85      0     15       20    25   \n",
       "1      20    40           70    80     70     20     40       50    50   \n",
       "2      50    20           60    60     45      0      0       60    60   \n",
       "3      30    10           75    75     60     15     20       30    20   \n",
       "4       0    15           90   100     50      0      0       20    20   \n",
       "\n",
       "   fruity  floral  country  \n",
       "0      85      50        4  \n",
       "1      70      20        0  \n",
       "2      45       0        1  \n",
       "3      50       5        0  \n",
       "4      80      10        0  "
      ]
     },
     "execution_count": 3,
     "metadata": {},
     "output_type": "execute_result"
    }
   ],
   "source": [
    "df.head(5)"
   ]
  },
  {
   "cell_type": "markdown",
   "metadata": {},
   "source": [
    "## Functions for Reuse"
   ]
  },
  {
   "cell_type": "markdown",
   "metadata": {},
   "source": [
    "We create a function for running ANOVA test and post-hoc analysis with Tukey because they will be run multiple times. "
   ]
  },
  {
   "cell_type": "code",
   "execution_count": 159,
   "metadata": {},
   "outputs": [],
   "source": [
    "def anova_tukey(feature):\n",
    "    '''\n",
    "    This function automatically runs Analysis of Variance (ANOVA) and the\n",
    "    corresponding post-hoc analysis using Tukey. This will be run against\n",
    "    each country of origin (aka the dependent variable)\n",
    "    \n",
    "    Parameter: \n",
    "        Feature: target column as string \n",
    "          \n",
    "    Returns: \n",
    "        This prints out the ANOVA result plus the corresponding post-hoc\n",
    "        analysis results using Tukey-MC.\n",
    "    \n",
    "    '''\n",
    "    anova_countries = ols(feature + '~countries_cat', data=df).fit()\n",
    "    anova_countries\n",
    "    anova_table = sm.stats.anova_lm(anova_countries, type=2)\n",
    "    print(anova_table)\n",
    "    print()\n",
    "    mc = MultiComparison(df[feature], df['countries_cat'])\n",
    "    mc_results = mc.tukeyhsd()\n",
    "    print(mc_results.summary())"
   ]
  },
  {
   "cell_type": "markdown",
   "metadata": {},
   "source": [
    "## Distribution of Observations"
   ]
  },
  {
   "cell_type": "markdown",
   "metadata": {},
   "source": [
    "To further prove that there is class imbalance, we conduct an hypothesis testing using Chi-Square Goodness of Fit. We use an alpha value of .05."
   ]
  },
  {
   "cell_type": "markdown",
   "metadata": {},
   "source": [
    "**H0:** Even distribution of whisky observations across all countries of origin"
   ]
  },
  {
   "cell_type": "markdown",
   "metadata": {},
   "source": [
    "**H1:** Uneven distribution of whisky observations across all countries of origin"
   ]
  },
  {
   "cell_type": "code",
   "execution_count": 127,
   "metadata": {},
   "outputs": [],
   "source": [
    "### Encoded country names for better visual representation ###\n",
    "countries = { 0: 'Scotch',\n",
    "              1: 'American',\n",
    "              2: 'Canadian',\n",
    "              3: 'Irish',\n",
    "              4: 'Japanese'\n",
    "           }\n",
    "df['countries_cat'] = df.country.map(countries)"
   ]
  },
  {
   "cell_type": "code",
   "execution_count": 132,
   "metadata": {},
   "outputs": [
    {
     "data": {
      "text/html": [
       "<div>\n",
       "<style scoped>\n",
       "    .dataframe tbody tr th:only-of-type {\n",
       "        vertical-align: middle;\n",
       "    }\n",
       "\n",
       "    .dataframe tbody tr th {\n",
       "        vertical-align: top;\n",
       "    }\n",
       "\n",
       "    .dataframe thead th {\n",
       "        text-align: right;\n",
       "    }\n",
       "</style>\n",
       "<table border=\"1\" class=\"dataframe\">\n",
       "  <thead>\n",
       "    <tr style=\"text-align: right;\">\n",
       "      <th></th>\n",
       "      <th>country</th>\n",
       "      <th>count</th>\n",
       "    </tr>\n",
       "  </thead>\n",
       "  <tbody>\n",
       "    <tr>\n",
       "      <td>0</td>\n",
       "      <td>American</td>\n",
       "      <td>1192</td>\n",
       "    </tr>\n",
       "    <tr>\n",
       "      <td>1</td>\n",
       "      <td>Canadian</td>\n",
       "      <td>175</td>\n",
       "    </tr>\n",
       "    <tr>\n",
       "      <td>2</td>\n",
       "      <td>Irish</td>\n",
       "      <td>152</td>\n",
       "    </tr>\n",
       "    <tr>\n",
       "      <td>3</td>\n",
       "      <td>Japanese</td>\n",
       "      <td>111</td>\n",
       "    </tr>\n",
       "    <tr>\n",
       "      <td>4</td>\n",
       "      <td>Scotch</td>\n",
       "      <td>1032</td>\n",
       "    </tr>\n",
       "  </tbody>\n",
       "</table>\n",
       "</div>"
      ],
      "text/plain": [
       "    country  count\n",
       "0  American   1192\n",
       "1  Canadian    175\n",
       "2     Irish    152\n",
       "3  Japanese    111\n",
       "4    Scotch   1032"
      ]
     },
     "execution_count": 132,
     "metadata": {},
     "output_type": "execute_result"
    }
   ],
   "source": [
    "### Count whisky observations per country of origin ###\n",
    "country_df = df.groupby('countries_cat', as_index=False).agg({'price': ['count']})\n",
    "country_df.columns = country_df.columns.droplevel(0)\n",
    "country_df.columns = ['country', 'count']\n",
    "country_df"
   ]
  },
  {
   "cell_type": "code",
   "execution_count": 133,
   "metadata": {},
   "outputs": [],
   "source": [
    "### Compute for the expected value if there is even distribution ###\n",
    "expected = country_df['count'].sum() / country_df.shape[0]\n",
    "expected_array = np.full((country_df.shape[0],), expected)"
   ]
  },
  {
   "cell_type": "code",
   "execution_count": 134,
   "metadata": {},
   "outputs": [
    {
     "data": {
      "text/plain": [
       "Power_divergenceResult(statistic=2131.2719759579263, pvalue=0.0)"
      ]
     },
     "execution_count": 134,
     "metadata": {},
     "output_type": "execute_result"
    }
   ],
   "source": [
    "### Run Chi-Square goodness of fit test ###\n",
    "scipy.stats.chisquare(country_df['count'], f_exp=expected_array)"
   ]
  },
  {
   "cell_type": "markdown",
   "metadata": {},
   "source": [
    "**Observations**"
   ]
  },
  {
   "cell_type": "markdown",
   "metadata": {},
   "source": [
    "Because the resulting p-value is less than the alpha value, we **reject the null** hypothesis that there is even distribution of whisky datapoints across each country of origin in our dataset. This further proves that we will need to address class imbalance later on."
   ]
  },
  {
   "cell_type": "markdown",
   "metadata": {},
   "source": [
    "## Basic Features"
   ]
  },
  {
   "cell_type": "markdown",
   "metadata": {},
   "source": [
    "To determine features most suitable for classification, we conducted hypothesis testing. We tested several \"out-of-the-box\" features. \n",
    "\n",
    "We conduct ANOVA for each feature to determine if there is a significant difference between the country of origin based on each of the feature selected. Then we run a Tukey Multi-Comparison to further deep-dive and verify which pair of the countries of origin have signifcant differences. We use an alpha value of .05."
   ]
  },
  {
   "cell_type": "markdown",
   "metadata": {},
   "source": [
    "### Price"
   ]
  },
  {
   "cell_type": "markdown",
   "metadata": {},
   "source": [
    "**H0:** The prices of whisky bottles from all countries of origin are the same"
   ]
  },
  {
   "cell_type": "markdown",
   "metadata": {},
   "source": [
    "**H1:** The prices of whisky bottles from all countries of origin are NOT the same"
   ]
  },
  {
   "cell_type": "code",
   "execution_count": 69,
   "metadata": {},
   "outputs": [
    {
     "data": {
      "text/plain": [
       "<function matplotlib.pyplot.show(*args, **kw)>"
      ]
     },
     "execution_count": 69,
     "metadata": {},
     "output_type": "execute_result"
    },
    {
     "data": {
      "image/png": "[encoded data removed]",
      "text/plain": [
       "<Figure size 842.4x595.44 with 1 Axes>"
      ]
     },
     "metadata": {},
     "output_type": "display_data"
    }
   ],
   "source": [
    "sns.set(rc={'figure.figsize':(11.7,8.27)})\n",
    "sns.boxplot(y=df['price'], x=df['countries_cat'], width=0.8)\n",
    "\n",
    "plt.show"
   ]
  },
  {
   "cell_type": "code",
   "execution_count": 160,
   "metadata": {},
   "outputs": [
    {
     "name": "stdout",
     "output_type": "stream",
     "text": [
      "                    df   sum_sq  mean_sq       F  PR(>F)\n",
      "countries_cat    4.000  595.422  148.855 133.004   0.000\n",
      "Residual      2657.000 2973.669    1.119     nan     nan\n",
      "\n",
      "  Multiple Comparison of Means - Tukey HSD, FWER=0.05   \n",
      "========================================================\n",
      " group1   group2  meandiff p-adj   lower   upper  reject\n",
      "--------------------------------------------------------\n",
      "American Canadian  -0.2343 0.0491 -0.4681 -0.0006   True\n",
      "American    Irish   0.1472  0.488 -0.1015  0.3959  False\n",
      "American Japanese   1.2413  0.001  0.9547  1.5279   True\n",
      "American   Scotch   0.8885  0.001  0.7658  1.0113   True\n",
      "Canadian    Irish   0.3815 0.0102  0.0613  0.7017   True\n",
      "Canadian Japanese   1.4756  0.001  1.1252   1.826   True\n",
      "Canadian   Scotch   1.1229  0.001  0.8868   1.359   True\n",
      "   Irish Japanese   1.0941  0.001  0.7336  1.4547   True\n",
      "   Irish   Scotch   0.7414  0.001  0.4905  0.9923   True\n",
      "Japanese   Scotch  -0.3527 0.0076 -0.6412 -0.0643   True\n",
      "--------------------------------------------------------\n"
     ]
    }
   ],
   "source": [
    "anova_tukey(\"price\")"
   ]
  },
  {
   "cell_type": "markdown",
   "metadata": {},
   "source": [
    "Because the p-value is less than alpha, we **reject the null** hypothesis that the prices of whisky bottles coming from all countries are the same. The ANOVA result is showing that there is indeed a significant difference in the prices from different countries of origin. This warrants a post-hoc analysis in order to determine between which countries has these significant differences."
   ]
  },
  {
   "cell_type": "markdown",
   "metadata": {},
   "source": [
    "Out of 10 pairwise comparisons, 9 of them have rejected the null hypothesis that prices are the same. There are significant differences in terms of price. This can mean that price may be a significant feature as predictor of our dependent variable."
   ]
  },
  {
   "cell_type": "markdown",
   "metadata": {},
   "source": [
    "### Expert Score"
   ]
  },
  {
   "cell_type": "markdown",
   "metadata": {},
   "source": [
    "**H0:** The expert scores based on reviews of whisky bottles from all countries of origin are the same"
   ]
  },
  {
   "cell_type": "markdown",
   "metadata": {},
   "source": [
    "**H1:** The expert scores based on reviews of whisky bottles from all countries of origin are NOT the same"
   ]
  },
  {
   "cell_type": "code",
   "execution_count": 75,
   "metadata": {},
   "outputs": [
    {
     "data": {
      "text/plain": [
       "<function matplotlib.pyplot.show(*args, **kw)>"
      ]
     },
     "execution_count": 75,
     "metadata": {},
     "output_type": "execute_result"
    },
    {
     "data": {
      "image/png": "[encoded data removed]",
      "text/plain": [
       "<Figure size 842.4x595.44 with 1 Axes>"
      ]
     },
     "metadata": {},
     "output_type": "display_data"
    }
   ],
   "source": [
    "sns.set(rc={'figure.figsize':(11.7,8.27)})\n",
    "sns.boxplot(y=df['expert_score'], x=df['countries_cat'], width=0.8)\n",
    "\n",
    "plt.show"
   ]
  },
  {
   "cell_type": "code",
   "execution_count": 161,
   "metadata": {},
   "outputs": [
    {
     "name": "stdout",
     "output_type": "stream",
     "text": [
      "                    df    sum_sq  mean_sq      F  PR(>F)\n",
      "countries_cat    4.000  3773.736  943.434 28.260   0.000\n",
      "Residual      2657.000 88702.172   33.384    nan     nan\n",
      "\n",
      "  Multiple Comparison of Means - Tukey HSD, FWER=0.05  \n",
      "=======================================================\n",
      " group1   group2  meandiff p-adj   lower  upper  reject\n",
      "-------------------------------------------------------\n",
      "American Canadian   1.7763 0.0014  0.4996 3.0531   True\n",
      "American    Irish     1.32 0.0616 -0.0384 2.6783  False\n",
      "American Japanese   3.1224  0.001  1.5573 4.6876   True\n",
      "American   Scotch   2.4451  0.001  1.7745 3.1157   True\n",
      "Canadian    Irish  -0.4564    0.9  -2.205 1.2923  False\n",
      "Canadian Japanese   1.3461 0.3069 -0.5676 3.2598  False\n",
      "Canadian   Scotch   0.6687 0.6019 -0.6206 1.9581  False\n",
      "   Irish Japanese   1.8025  0.091 -0.1667 3.7716  False\n",
      "   Irish   Scotch   1.1251  0.165 -0.2451 2.4953  False\n",
      "Japanese   Scotch  -0.6774 0.7393 -2.2528 0.8981  False\n",
      "-------------------------------------------------------\n"
     ]
    }
   ],
   "source": [
    "anova_tukey(\"expert_score\")"
   ]
  },
  {
   "cell_type": "markdown",
   "metadata": {},
   "source": [
    "Because the p-value is less than alpha, we **reject the null** hypothesis that the prices of whisky bottles coming from all countries are the same. The ANOVA result is showing that there is indeed a significant difference in the prices from different countries of origin. This warrants a post-hoc analysis in order to determine between which countries has these significant differences."
   ]
  },
  {
   "cell_type": "markdown",
   "metadata": {},
   "source": [
    "Out of 10 pairwise comparisons, only 3 of them have significant differences in terms of expert scores. Nevertheless, the fact that we have rejected the null hypothesis for 3 pairs may mean that this feature is not completely insignificant."
   ]
  },
  {
   "cell_type": "markdown",
   "metadata": {},
   "source": [
    "### User Rating"
   ]
  },
  {
   "cell_type": "markdown",
   "metadata": {},
   "source": [
    "**H0:** The user ratings of whisky bottles from all countries of origin are the same"
   ]
  },
  {
   "cell_type": "markdown",
   "metadata": {},
   "source": [
    "**H1:** The user ratings of whisky bottles from all countries of origin are NOT the same"
   ]
  },
  {
   "cell_type": "code",
   "execution_count": 81,
   "metadata": {},
   "outputs": [
    {
     "data": {
      "text/plain": [
       "<function matplotlib.pyplot.show(*args, **kw)>"
      ]
     },
     "execution_count": 81,
     "metadata": {},
     "output_type": "execute_result"
    },
    {
     "data": {
      "image/png": "[encoded data removed]",
      "text/plain": [
       "<Figure size 842.4x595.44 with 1 Axes>"
      ]
     },
     "metadata": {},
     "output_type": "display_data"
    }
   ],
   "source": [
    "sns.set(rc={'figure.figsize':(11.7,8.27)})\n",
    "sns.boxplot(y=df['user_rating'], x=df['countries_cat'], width=0.8)\n",
    "\n",
    "plt.show"
   ]
  },
  {
   "cell_type": "code",
   "execution_count": 162,
   "metadata": {
    "scrolled": true
   },
   "outputs": [
    {
     "name": "stdout",
     "output_type": "stream",
     "text": [
      "                    df  sum_sq  mean_sq      F  PR(>F)\n",
      "countries_cat    4.000  34.192    8.548 28.504   0.000\n",
      "Residual      2657.000 796.805    0.300    nan     nan\n",
      "\n",
      "  Multiple Comparison of Means - Tukey HSD, FWER=0.05  \n",
      "=======================================================\n",
      " group1   group2  meandiff p-adj   lower  upper  reject\n",
      "-------------------------------------------------------\n",
      "American Canadian   -0.056 0.6889  -0.177  0.065  False\n",
      "American    Irish   0.0579 0.7088 -0.0709 0.1866  False\n",
      "American Japanese   0.3071  0.001  0.1587 0.4554   True\n",
      "American   Scotch   0.2125  0.001  0.1489  0.276   True\n",
      "Canadian    Irish   0.1139  0.331 -0.0519 0.2796  False\n",
      "Canadian Japanese    0.363  0.001  0.1817 0.5444   True\n",
      "Canadian   Scotch   0.2685  0.001  0.1463 0.3907   True\n",
      "   Irish Japanese   0.2492 0.0025  0.0625 0.4358   True\n",
      "   Irish   Scotch   0.1546 0.0103  0.0247 0.2845   True\n",
      "Japanese   Scotch  -0.0946 0.4179 -0.2439 0.0547  False\n",
      "-------------------------------------------------------\n"
     ]
    }
   ],
   "source": [
    "anova_tukey(\"user_rating\")"
   ]
  },
  {
   "cell_type": "markdown",
   "metadata": {},
   "source": [
    "Because the p-value is less than alpha, we **reject the null** hypothesis that the user scores of whisky bottles coming from all countries are the same. The ANOVA result is showing that there is indeed a significant difference in the user scores. This warrants a post-hoc analysis in order to determine between which countries has these significant differences."
   ]
  },
  {
   "cell_type": "markdown",
   "metadata": {},
   "source": [
    "Out of 10 pairwise comparisons, 6 of them have significant differences in terms of user ratings. There are significant differences in terms of user ratings. This can mean that user rating may be a significant feature as predictor of our dependent variable."
   ]
  },
  {
   "cell_type": "markdown",
   "metadata": {},
   "source": [
    "### Alcohol Content"
   ]
  },
  {
   "cell_type": "markdown",
   "metadata": {},
   "source": [
    "**H0:** The alcohol content of whisky bottles from all countries of origin are the same"
   ]
  },
  {
   "cell_type": "markdown",
   "metadata": {},
   "source": [
    "**H1:** The alcohol content of whisky bottles from all countries of origin are NOT the same"
   ]
  },
  {
   "cell_type": "code",
   "execution_count": 90,
   "metadata": {},
   "outputs": [
    {
     "data": {
      "text/plain": [
       "<function matplotlib.pyplot.show(*args, **kw)>"
      ]
     },
     "execution_count": 90,
     "metadata": {},
     "output_type": "execute_result"
    },
    {
     "data": {
      "image/png": "[encoded data removed]",
      "text/plain": [
       "<Figure size 842.4x595.44 with 1 Axes>"
      ]
     },
     "metadata": {},
     "output_type": "display_data"
    }
   ],
   "source": [
    "sns.set(rc={'figure.figsize':(11.7,8.27)})\n",
    "sns.boxplot(y=df['abv'], x=df['countries_cat'], width=0.8)\n",
    "\n",
    "plt.show"
   ]
  },
  {
   "cell_type": "code",
   "execution_count": 163,
   "metadata": {},
   "outputs": [
    {
     "name": "stdout",
     "output_type": "stream",
     "text": [
      "                    df     sum_sq  mean_sq      F  PR(>F)\n",
      "countries_cat    4.000   5239.510 1309.878 34.162   0.000\n",
      "Residual      2657.000 101876.729   38.343    nan     nan\n",
      "\n",
      "  Multiple Comparison of Means - Tukey HSD, FWER=0.05   \n",
      "========================================================\n",
      " group1   group2  meandiff p-adj   lower   upper  reject\n",
      "--------------------------------------------------------\n",
      "American Canadian   -4.431  0.001 -5.7993 -3.0627   True\n",
      "American    Irish  -4.0978  0.001 -5.5535  -2.642   True\n",
      "American Japanese  -2.6724  0.001 -4.3497 -0.9951   True\n",
      "American   Scotch  -1.6312  0.001 -2.3499 -0.9125   True\n",
      "Canadian    Irish   0.3332    0.9 -1.5408  2.2073  False\n",
      "Canadian Japanese   1.7586 0.1322 -0.2923  3.8095  False\n",
      "Canadian   Scotch   2.7998  0.001   1.418  4.1816   True\n",
      "   Irish Japanese   1.4254 0.3489 -0.6849  3.5357  False\n",
      "   Irish   Scotch   2.4666  0.001  0.9981   3.935   True\n",
      "Japanese   Scotch   1.0412 0.4461 -0.6472  2.7296  False\n",
      "--------------------------------------------------------\n"
     ]
    }
   ],
   "source": [
    "anova_tukey(\"abv\")"
   ]
  },
  {
   "cell_type": "markdown",
   "metadata": {},
   "source": [
    "Because the p-value is less than alpha, we **reject the null** hypothesis that the alcohol content of whisky bottles coming from all countries are the same. The ANOVA result is showing that there is indeed a significant difference in alcohol conent. This warrants a post-hoc analysis in order to determine between which countries has these significant differences."
   ]
  },
  {
   "cell_type": "markdown",
   "metadata": {},
   "source": [
    "Out of 10 pairwise comparisons, 6 of them have significant differences in terms of alcohol content. There are significant differences in terms of user ratings. This can mean that user rating may be a significant feature as predictor of our dependent variable."
   ]
  },
  {
   "cell_type": "markdown",
   "metadata": {},
   "source": [
    "### Flavor Profiles"
   ]
  },
  {
   "cell_type": "markdown",
   "metadata": {},
   "source": [
    "Finally, we conduct hypothesis testing on the fourteen (14) different flavor profile intensity levels. We believe that this may be the key feaetures in predicting our dependent variable based on the assumption that there are distinct flavor profiles of whiskies coming from a specific country.\n",
    "\n",
    "We conduct ANOVA for each flavor profile to determine if there is a significant difference between the countries flavor-wise. Then we run a Tukey Multi-Comparison to further deep-dive and verify which pair of the countries of origin have signifcant differences. We use an alpha value of .05."
   ]
  },
  {
   "cell_type": "markdown",
   "metadata": {},
   "source": [
    "**H0:** All whiskies from different countries have the same flavor profiles"
   ]
  },
  {
   "cell_type": "markdown",
   "metadata": {},
   "source": [
    "**H1:** All whiskies from different countries do NOT have the same flavor profiles"
   ]
  },
  {
   "cell_type": "code",
   "execution_count": 175,
   "metadata": {},
   "outputs": [],
   "source": [
    "### Create a list of all flavor profiles ###\n",
    "flavors = ['smoky', 'peaty', 'spicy', 'herbal',\n",
    "       'oily', 'fullbodied', 'rich', 'sweet', 'briny', 'salty', 'vanilla',\n",
    "       'tart', 'fruity', 'floral']"
   ]
  },
  {
   "cell_type": "code",
   "execution_count": 176,
   "metadata": {},
   "outputs": [],
   "source": [
    "df = df.rename(columns={'full-bodied': 'fullbodied'})"
   ]
  },
  {
   "cell_type": "code",
   "execution_count": 177,
   "metadata": {},
   "outputs": [
    {
     "data": {
      "text/plain": [
       "Index(['name', 'type', 'price', 'expert_score', 'user_rating', 'description',\n",
       "       'abv', 'style', 'cask', 'review', 'smoky', 'peaty', 'spicy', 'herbal',\n",
       "       'oily', 'fullbodied', 'rich', 'sweet', 'briny', 'salty', 'vanilla',\n",
       "       'tart', 'fruity', 'floral', 'country', 'counties_cat', 'countries_cat'],\n",
       "      dtype='object')"
      ]
     },
     "execution_count": 177,
     "metadata": {},
     "output_type": "execute_result"
    }
   ],
   "source": [
    "df.columns"
   ]
  },
  {
   "cell_type": "markdown",
   "metadata": {},
   "source": [
    "anova_countries = ols('smoky~countries_cat', data=df).fit()\n",
    "anova_countries"
   ]
  },
  {
   "cell_type": "code",
   "execution_count": 178,
   "metadata": {
    "scrolled": false
   },
   "outputs": [
    {
     "name": "stdout",
     "output_type": "stream",
     "text": [
      "SMOKY\n",
      "\n",
      "                    df      sum_sq   mean_sq      F  PR(>F)\n",
      "countries_cat    4.000   45260.301 11315.075 26.470   0.000\n",
      "Residual      2657.000 1135774.954   427.465    nan     nan\n",
      "\n",
      "   Multiple Comparison of Means - Tukey HSD, FWER=0.05   \n",
      "=========================================================\n",
      " group1   group2  meandiff p-adj   lower    upper  reject\n",
      "---------------------------------------------------------\n",
      "American Canadian  10.8377  0.001   6.2691 15.4062   True\n",
      "American    Irish  -1.7605 0.8442  -6.6211  3.1002  False\n",
      "American Japanese   4.6443 0.1572  -0.9562 10.2449  False\n",
      "American   Scotch   7.5628  0.001   5.1632  9.9625   True\n",
      "Canadian    Irish -12.5981  0.001 -18.8554 -6.3408   True\n",
      "Canadian Japanese  -6.1933  0.098 -13.0412  0.6546  False\n",
      "Canadian   Scotch  -3.2748 0.2977  -7.8885  1.3389  False\n",
      "   Irish Japanese   6.4048 0.0951  -0.6413 13.4509  False\n",
      "   Irish   Scotch   9.3233  0.001   4.4202 14.2264   True\n",
      "Japanese   Scotch   2.9185 0.6034  -2.7189  8.5558  False\n",
      "---------------------------------------------------------\n",
      "\n",
      "PEATY\n",
      "\n",
      "                    df      sum_sq   mean_sq      F  PR(>F)\n",
      "countries_cat    4.000   45260.301 11315.075 26.470   0.000\n",
      "Residual      2657.000 1135774.954   427.465    nan     nan\n",
      "\n",
      "   Multiple Comparison of Means - Tukey HSD, FWER=0.05   \n",
      "=========================================================\n",
      " group1   group2  meandiff p-adj   lower    upper  reject\n",
      "---------------------------------------------------------\n",
      "American Canadian  10.8377  0.001   6.2691 15.4062   True\n",
      "American    Irish  -1.7605 0.8442  -6.6211  3.1002  False\n",
      "American Japanese   4.6443 0.1572  -0.9562 10.2449  False\n",
      "American   Scotch   7.5628  0.001   5.1632  9.9625   True\n",
      "Canadian    Irish -12.5981  0.001 -18.8554 -6.3408   True\n",
      "Canadian Japanese  -6.1933  0.098 -13.0412  0.6546  False\n",
      "Canadian   Scotch  -3.2748 0.2977  -7.8885  1.3389  False\n",
      "   Irish Japanese   6.4048 0.0951  -0.6413 13.4509  False\n",
      "   Irish   Scotch   9.3233  0.001   4.4202 14.2264   True\n",
      "Japanese   Scotch   2.9185 0.6034  -2.7189  8.5558  False\n",
      "---------------------------------------------------------\n",
      "\n",
      "SPICY\n",
      "\n",
      "                    df      sum_sq   mean_sq      F  PR(>F)\n",
      "countries_cat    4.000   52850.828 13212.707 31.803   0.000\n",
      "Residual      2657.000 1103853.431   415.451    nan     nan\n",
      "\n",
      "   Multiple Comparison of Means - Tukey HSD, FWER=0.05   \n",
      "=========================================================\n",
      " group1   group2  meandiff p-adj   lower    upper  reject\n",
      "---------------------------------------------------------\n",
      "American Canadian    2.654 0.4921  -1.8499   7.158  False\n",
      "American    Irish  -7.2512  0.001 -12.0431 -2.4594   True\n",
      "American Japanese  -6.0469 0.0236 -11.5681 -0.5256   True\n",
      "American   Scotch  -8.8204  0.001 -11.1861 -6.4547   True\n",
      "Canadian    Irish  -9.9053  0.001  -16.074 -3.7365   True\n",
      "Canadian Japanese  -8.7009  0.004 -15.4519 -1.9499   True\n",
      "Canadian   Scotch -11.4744  0.001 -16.0228  -6.926   True\n",
      "   Irish Japanese   1.2044    0.9   -5.742  8.1508  False\n",
      "   Irish   Scotch  -1.5692    0.9  -6.4028  3.2645  False\n",
      "Japanese   Scotch  -2.7735 0.6323  -8.3311  2.7841  False\n",
      "---------------------------------------------------------\n",
      "\n",
      "HERBAL\n",
      "\n",
      "                    df      sum_sq  mean_sq     F  PR(>F)\n",
      "countries_cat    4.000    5009.408 1252.352 3.305   0.010\n",
      "Residual      2657.000 1006690.586  378.882   nan     nan\n",
      "\n",
      "  Multiple Comparison of Means - Tukey HSD, FWER=0.05   \n",
      "========================================================\n",
      " group1   group2  meandiff p-adj   lower   upper  reject\n",
      "--------------------------------------------------------\n",
      "American Canadian  -3.4668 0.1798 -7.7679  0.8344  False\n",
      "American    Irish  -0.6352    0.9 -5.2113  3.9409  False\n",
      "American Japanese   0.3639    0.9 -4.9088  5.6365  False\n",
      "American   Scotch  -2.6214 0.0135 -4.8806 -0.3623   True\n",
      "Canadian    Irish   2.8316 0.6608 -3.0594  8.7226  False\n",
      "Canadian Japanese   3.8306 0.4839 -2.6164 10.2777  False\n",
      "Canadian   Scotch   0.8453    0.9 -3.4983   5.189  False\n",
      "   Irish Japanese   0.9991    0.9 -5.6346  7.6327  False\n",
      "   Irish   Scotch  -1.9862 0.7388 -6.6023  2.6298  False\n",
      "Japanese   Scotch  -2.9853 0.5341 -8.2926  2.3221  False\n",
      "--------------------------------------------------------\n",
      "\n",
      "OILY\n",
      "\n",
      "                    df      sum_sq  mean_sq      F  PR(>F)\n",
      "countries_cat    4.000   25706.146 6426.537 16.247   0.000\n",
      "Residual      2657.000 1050976.722  395.550    nan     nan\n",
      "\n",
      "   Multiple Comparison of Means - Tukey HSD, FWER=0.05   \n",
      "=========================================================\n",
      " group1   group2  meandiff p-adj   lower    upper  reject\n",
      "---------------------------------------------------------\n",
      "American Canadian   -7.599  0.001 -11.9937 -3.2042   True\n",
      "American    Irish   1.7815 0.8151  -2.8942  6.4572  False\n",
      "American Japanese   5.6615 0.0338   0.2741 11.0489   True\n",
      "American   Scotch    4.034  0.001   1.7257  6.3423   True\n",
      "Canadian    Irish   9.3805  0.001   3.3613 15.3996   True\n",
      "Canadian Japanese  13.2605  0.001   6.6732 19.8478   True\n",
      "Canadian   Scotch   11.633  0.001   7.1949 16.0711   True\n",
      "   Irish Japanese     3.88 0.5186  -2.8979  10.658  False\n",
      "   Irish   Scotch   2.2525 0.6655  -2.4639   6.969  False\n",
      "Japanese   Scotch  -1.6275    0.9  -7.0503  3.7954  False\n",
      "---------------------------------------------------------\n",
      "\n",
      "FULLBODIED\n",
      "\n",
      "                    df     sum_sq  mean_sq     F  PR(>F)\n",
      "countries_cat    4.000  13601.109 3400.277 9.696   0.000\n",
      "Residual      2657.000 931760.622  350.681   nan     nan\n",
      "\n",
      "  Multiple Comparison of Means - Tukey HSD, FWER=0.05   \n",
      "========================================================\n",
      " group1   group2  meandiff p-adj   lower   upper  reject\n",
      "--------------------------------------------------------\n",
      "American Canadian  -4.4398 0.0283 -8.5777 -0.3018   True\n",
      "American    Irish   1.0808    0.9 -3.3217  5.4834  False\n",
      "American Japanese  -2.4004 0.6723 -7.4731  2.6722  False\n",
      "American   Scotch   3.4005  0.001   1.227  5.5739   True\n",
      "Canadian    Irish   5.5206 0.0606 -0.1469 11.1881  False\n",
      "Canadian Japanese   2.0393  0.896 -4.1631  8.2418  False\n",
      "Canadian   Scotch   7.8402  0.001  3.6614 12.0191   True\n",
      "   Irish Japanese  -3.4813 0.5604 -9.8633  2.9007  False\n",
      "   Irish   Scotch   2.3196 0.5963 -2.1213  6.7606  False\n",
      "Japanese   Scotch   5.8009 0.0167  0.6949 10.9069   True\n",
      "--------------------------------------------------------\n",
      "\n",
      "RICH\n",
      "\n",
      "                    df     sum_sq  mean_sq      F  PR(>F)\n",
      "countries_cat    4.000  16685.973 4171.493 11.213   0.000\n",
      "Residual      2657.000 988499.789  372.036    nan     nan\n",
      "\n",
      "  Multiple Comparison of Means - Tukey HSD, FWER=0.05   \n",
      "========================================================\n",
      " group1   group2  meandiff p-adj   lower   upper  reject\n",
      "--------------------------------------------------------\n",
      "American Canadian  -2.3204  0.562 -6.5825  1.9417  False\n",
      "American    Irish   2.0001 0.7221 -2.5344  6.5347  False\n",
      "American Japanese  -0.7343    0.9 -5.9591  4.4905  False\n",
      "American   Scotch   4.7751  0.001  2.5365  7.0138   True\n",
      "Canadian    Irish   4.3206 0.2564  -1.517 10.1581  False\n",
      "Canadian Japanese   1.5862    0.9 -4.8024  7.9747  False\n",
      "Canadian   Scotch   7.0956  0.001  2.7914 11.3997   True\n",
      "   Irish Japanese  -2.7344 0.7609 -9.3078   3.839  False\n",
      "   Irish   Scotch    2.775  0.463 -1.7992  7.3491  False\n",
      "Japanese   Scotch   5.5094 0.0347  0.2502 10.7686   True\n",
      "--------------------------------------------------------\n",
      "\n",
      "SWEET\n",
      "\n",
      "                    df     sum_sq  mean_sq     F  PR(>F)\n",
      "countries_cat    4.000   6015.941 1503.985 4.313   0.002\n",
      "Residual      2657.000 926601.458  348.740   nan     nan\n",
      "\n",
      "  Multiple Comparison of Means - Tukey HSD, FWER=0.05   \n",
      "========================================================\n",
      " group1   group2  meandiff p-adj   lower   upper  reject\n",
      "--------------------------------------------------------\n",
      "American Canadian  -0.7154    0.9 -4.8419  3.4111  False\n",
      "American    Irish   5.2685 0.0094  0.8782  9.6589   True\n",
      "American Japanese   4.6907 0.0843 -0.3678  9.7493  False\n",
      "American   Scotch   0.2584    0.9  -1.909  2.4258  False\n",
      "Canadian    Irish   5.9839 0.0317  0.3321 11.6358   True\n",
      "Canadian Japanese   5.4061 0.1197 -0.7791 11.5914  False\n",
      "Canadian   Scotch   0.9738    0.9 -3.1935  5.1411  False\n",
      "   Irish Japanese  -0.5778    0.9 -6.9421  5.7865  False\n",
      "   Irish   Scotch  -5.0101 0.0174 -9.4388 -0.5815   True\n",
      "Japanese   Scotch  -4.4323 0.1224 -9.5242  0.6595  False\n",
      "--------------------------------------------------------\n",
      "\n",
      "BRINY\n",
      "\n",
      "                    df     sum_sq   mean_sq       F  PR(>F)\n",
      "countries_cat    4.000  88963.407 22240.852 106.123   0.000\n",
      "Residual      2657.000 556841.390   209.575     nan     nan\n",
      "\n"
     ]
    },
    {
     "name": "stdout",
     "output_type": "stream",
     "text": [
      "  Multiple Comparison of Means - Tukey HSD, FWER=0.05   \n",
      "========================================================\n",
      " group1   group2  meandiff p-adj   lower   upper  reject\n",
      "--------------------------------------------------------\n",
      "American Canadian     -0.4    0.9 -3.5989   2.799  False\n",
      "American    Irish   0.9254    0.9  -2.478  4.3288  False\n",
      "American Japanese   10.503  0.001  6.5816 14.4245   True\n",
      "American   Scotch  11.8329  0.001 10.1527 13.5131   True\n",
      "Canadian    Irish   1.3254    0.9  -3.056  5.7067  False\n",
      "Canadian Japanese   10.903  0.001  6.1081 15.6978   True\n",
      "Canadian   Scotch  12.2329  0.001  9.0024 15.4634   True\n",
      "   Irish Japanese   9.5776  0.001  4.6439 14.5112   True\n",
      "   Irish   Scotch  10.9075  0.001  7.4744 14.3406   True\n",
      "Japanese   Scotch   1.3299 0.8834 -2.6174  5.2772  False\n",
      "--------------------------------------------------------\n",
      "\n",
      "SALTY\n",
      "\n",
      "                    df     sum_sq   mean_sq       F  PR(>F)\n",
      "countries_cat    4.000  98665.149 24666.287 118.820   0.000\n",
      "Residual      2657.000 551575.152   207.593     nan     nan\n",
      "\n",
      "  Multiple Comparison of Means - Tukey HSD, FWER=0.05   \n",
      "========================================================\n",
      " group1   group2  meandiff p-adj   lower   upper  reject\n",
      "--------------------------------------------------------\n",
      "American Canadian   -3.357 0.0329 -6.5407 -0.1733   True\n",
      "American    Irish   2.0131 0.4837 -1.3742  5.4004  False\n",
      "American Japanese   9.7478  0.001  5.8449 13.6506   True\n",
      "American   Scotch  12.1518  0.001 10.4796 13.8241   True\n",
      "Canadian    Irish   5.3701  0.007  1.0095  9.7307   True\n",
      "Canadian Japanese  13.1048  0.001  8.3326 17.8769   True\n",
      "Canadian   Scotch  15.5088  0.001 12.2936  18.724   True\n",
      "   Irish Japanese   7.7346  0.001  2.8244 12.6449   True\n",
      "   Irish   Scotch  10.1387  0.001  6.7219 13.5556   True\n",
      "Japanese   Scotch   2.4041 0.4541 -1.5245  6.3326  False\n",
      "--------------------------------------------------------\n",
      "\n",
      "VANILLA\n",
      "\n",
      "                    df      sum_sq  mean_sq     F  PR(>F)\n",
      "countries_cat    4.000    8151.415 2037.854 4.788   0.001\n",
      "Residual      2657.000 1130894.724  425.628   nan     nan\n",
      "\n",
      "   Multiple Comparison of Means - Tukey HSD, FWER=0.05   \n",
      "=========================================================\n",
      " group1   group2  meandiff p-adj   lower    upper  reject\n",
      "---------------------------------------------------------\n",
      "American Canadian   3.0869 0.3463  -1.4718  7.6457  False\n",
      "American    Irish     3.22 0.3674  -1.6302  8.0702  False\n",
      "American Japanese  -5.1823 0.0843 -10.7708  0.4062  False\n",
      "American   Scotch  -1.5239 0.4128  -3.9183  0.8706  False\n",
      "Canadian    Irish   0.1331    0.9  -6.1108  6.3769  False\n",
      "Canadian Japanese  -8.2692 0.0086 -15.1024 -1.4361   True\n",
      "Canadian   Scotch  -4.6108 0.0494  -9.2146  -0.007   True\n",
      "   Irish Japanese  -8.4023 0.0099 -15.4333 -1.3714   True\n",
      "   Irish   Scotch  -4.7439 0.0626  -9.6364  0.1487  False\n",
      "Japanese   Scotch   3.6584 0.3896  -1.9668  9.2837  False\n",
      "---------------------------------------------------------\n",
      "\n",
      "TART\n",
      "\n",
      "                    df     sum_sq   mean_sq      F  PR(>F)\n",
      "countries_cat    4.000  46823.744 11705.936 35.368   0.000\n",
      "Residual      2657.000 879393.851   330.972    nan     nan\n",
      "\n",
      "   Multiple Comparison of Means - Tukey HSD, FWER=0.05   \n",
      "=========================================================\n",
      " group1   group2  meandiff p-adj   lower    upper  reject\n",
      "---------------------------------------------------------\n",
      "American Canadian   5.9448  0.001   1.9248  9.9648   True\n",
      "American    Irish   13.358  0.001   9.0809  17.635   True\n",
      "American Japanese   6.4619 0.0032   1.5339 11.3899   True\n",
      "American   Scotch   7.6142  0.001   5.5027  9.7257   True\n",
      "Canadian    Irish   7.4132 0.0023   1.9072 12.9191   True\n",
      "Canadian Japanese   0.5171    0.9  -5.5085  6.5428  False\n",
      "Canadian   Scotch   1.6694 0.7683  -2.3903  5.7291  False\n",
      "   Irish Japanese   -6.896 0.0204 -13.0961  -0.696   True\n",
      "   Irish   Scotch  -5.7438 0.0026 -10.0581 -1.4294   True\n",
      "Japanese   Scotch   1.1523    0.9  -3.8082  6.1127  False\n",
      "---------------------------------------------------------\n",
      "\n",
      "FRUITY\n",
      "\n",
      "                    df      sum_sq   mean_sq      F  PR(>F)\n",
      "countries_cat    4.000  173743.558 43435.889 92.363   0.000\n",
      "Residual      2657.000 1249518.954   470.274    nan     nan\n",
      "\n",
      "  Multiple Comparison of Means - Tukey HSD, FWER=0.05   \n",
      "========================================================\n",
      " group1   group2  meandiff p-adj   lower   upper  reject\n",
      "--------------------------------------------------------\n",
      "American Canadian  11.5289  0.001   6.737 16.3208   True\n",
      "American    Irish  18.6611  0.001 13.5628 23.7593   True\n",
      "American Japanese  23.4708  0.001 17.5965  29.345   True\n",
      "American   Scotch  15.1417  0.001 12.6248 17.6586   True\n",
      "Canadian    Irish   7.1321 0.0253   0.569 13.6953   True\n",
      "Canadian Japanese  11.9418  0.001  4.7592 19.1244   True\n",
      "Canadian   Scotch   3.6128 0.2481 -1.2265   8.452  False\n",
      "   Irish Japanese   4.8097 0.3889 -2.5808 12.2002  False\n",
      "   Irish   Scotch  -3.5194  0.335 -8.6621  1.6234  False\n",
      "Japanese   Scotch  -8.3291 0.0012 -14.242 -2.4161   True\n",
      "--------------------------------------------------------\n",
      "\n",
      "FLORAL\n",
      "\n",
      "                    df      sum_sq   mean_sq      F  PR(>F)\n",
      "countries_cat    4.000   45717.530 11429.383 28.176   0.000\n",
      "Residual      2657.000 1077795.725   405.644    nan     nan\n",
      "\n",
      "   Multiple Comparison of Means - Tukey HSD, FWER=0.05   \n",
      "=========================================================\n",
      " group1   group2  meandiff p-adj   lower    upper  reject\n",
      "---------------------------------------------------------\n",
      "American Canadian   8.7758  0.001   4.3253 13.2262   True\n",
      "American    Irish   8.4175  0.001   3.6826 13.1525   True\n",
      "American Japanese  15.8278  0.001  10.3721 21.2835   True\n",
      "American   Scotch    6.009  0.001   3.6714  8.3466   True\n",
      "Canadian    Irish  -0.3583    0.9  -6.4538  5.7372  False\n",
      "Canadian Japanese    7.052 0.0322   0.3812 13.7228   True\n",
      "Canadian   Scotch  -2.7668 0.4479  -7.2612  1.7276  False\n",
      "   Irish Japanese   7.4103 0.0268   0.5464 14.2742   True\n",
      "   Irish   Scotch  -2.4085 0.6242  -7.1848  2.3678  False\n",
      "Japanese   Scotch  -9.8188  0.001 -15.3104 -4.3272   True\n",
      "---------------------------------------------------------\n",
      "\n"
     ]
    }
   ],
   "source": [
    "### Run ANOVA and Tukey-MC for each flavor profile ###\n",
    "for flavor in flavors:\n",
    "    \n",
    "    anova_table = sm.stats.anova_lm(anova_countries, type=2)\n",
    "    print(flavor.upper() + \"\\n\")\n",
    "    anova_tukey(flavor)\n",
    "    print()"
   ]
  },
  {
   "cell_type": "markdown",
   "metadata": {},
   "source": [
    "**Observations**\n",
    "\n",
    "We note that out of the resulting 14 ANOVA tables, none of them has a p-value that is greater than the alpha. Thus, we **reject all null** hypothesis that each flavor profile are the same across the whiskies from different countries."
   ]
  },
  {
   "cell_type": "markdown",
   "metadata": {},
   "source": [
    "Furthermore, all of the Tukey comparisons resulted to at least one True value for rejecting the null hypothesis. This means that each of the flavor profile may be significant in predicting our dependent variable, most especially when all of these flavor scores are combined together."
   ]
  }
 ],
 "metadata": {
  "kernelspec": {
   "display_name": "Python 3",
   "language": "python",
   "name": "python3"
  },
  "language_info": {
   "codemirror_mode": {
    "name": "ipython",
    "version": 3
   },
   "file_extension": ".py",
   "mimetype": "text/x-python",
   "name": "python",
   "nbconvert_exporter": "python",
   "pygments_lexer": "ipython3",
   "version": "3.7.4"
  },
  "toc": {
   "base_numbering": 1,
   "nav_menu": {},
   "number_sections": true,
   "sideBar": true,
   "skip_h1_title": false,
   "title_cell": "Table of Contents",
   "title_sidebar": "Contents",
   "toc_cell": false,
   "toc_position": {},
   "toc_section_display": true,
   "toc_window_display": false
  }
 },
 "nbformat": 4,
 "nbformat_minor": 2
}
