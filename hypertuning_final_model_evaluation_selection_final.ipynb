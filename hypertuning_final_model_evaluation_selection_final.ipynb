{
 "cells": [
  {
   "cell_type": "markdown",
   "metadata": {},
   "source": [
    "# Module 3 Project - Whisky Sommelier\n",
    "# Model Evaluation and Final Selection\n",
    "By: **Maura Cerow**, **Rajeev Panwar** and **Bryan Santos**"
   ]
  },
  {
   "cell_type": "markdown",
   "metadata": {},
   "source": [
    "This project aims to build the first module of a comprehensive whisky recommendation engine, an **automated whisky sommelier**. We would like this to act as a go-to \"middle-man\" between distributors, bars and consumers.\n",
    "\n",
    "This notebook includes analysis of the models performed, further efforts of improving the scores (through hyperparameter tuning) and final selection."
   ]
  },
  {
   "cell_type": "markdown",
   "metadata": {},
   "source": [
    "## Our Modeling Process"
   ]
  },
  {
   "cell_type": "markdown",
   "metadata": {},
   "source": [
    "Our modeling process is unique and follows these steps:\n",
    "   1. Perform baseline modeling of each of the following methods then different metrics will be tallied. There will be no hyperparameter tuning for this part yet to be explained why below.\n",
    "    - Logistic Regression\n",
    "    - K-Nearest Neighbors\n",
    "    - Decision Trees\n",
    "    - Random Forest\n",
    "    - Adaptive Boost\n",
    "    - Gradient Boost\n",
    "    - XGBoost\n",
    "    - Naive Bayes\n",
    "   2. Because we believe that we have indeed a significant class imbalance, we need to perform resampling. To do this, we then combine all of those methods with each of the following resampling techniques. Metrics will again be recorded.\n",
    "    - Random Undersampling\n",
    "    - Random Oversampling\n",
    "    - Tomek Links\n",
    "    - Cluster Centroids\n",
    "    - SMOTE\n",
    "    - SMOTE Tomek Links\n",
    "   3. After getting the scores of all of those combinations, we will select the top five (5) models for further improvement and hyperparameter tuning, if applicable.\n",
    "   4. All of the model evaluation, hyperparameter tuning and final selection will be performed in the succeeding notebook.\n",
    "   5. Please note that there will be no analysis in this notebook as this is purely for summarizing all of the baseline scores of each classification method combined with different resampling techniques.\n",
    "    \n",
    "    "
   ]
  },
  {
   "cell_type": "markdown",
   "metadata": {},
   "source": [
    "## Dataset"
   ]
  },
  {
   "cell_type": "markdown",
   "metadata": {},
   "source": [
    "Here is the final dataset after webscraping, hypothesis testing, EDA and feature engineering."
   ]
  },
  {
   "cell_type": "markdown",
   "metadata": {},
   "source": [
    "**Target**  \n",
    "- Whisky's country of origin: \n",
    "    - Scotland\n",
    "    - Japan\n",
    "    - USA\n",
    "    - Canada\n",
    "    - Ireland"
   ]
  },
  {
   "cell_type": "markdown",
   "metadata": {},
   "source": [
    "**Features**\n",
    "- Type (whether it is Single Malt, Blended, Rye, etc.)\n",
    "- Price (ranging from 1 to 5 with 5 being the most expensive)\n",
    "- Expert Score (critic score)\n",
    "- User Rating (distiller.com user reviews)\n",
    "- ABV (Alcohol By Volume)\n",
    "- Description\n",
    "- Style (ingredients)\n",
    "- Maturing/Cask (whether matured in oak, sherry, etc.)\n",
    "- Flavor Profiles (each having intensity scores ranging from 0 to 100):\n",
    "    - *Smoky*\n",
    "    - *Peaty*\n",
    "    - *Spicy*\n",
    "    - *Herbal*\n",
    "    - *Oily*\n",
    "    - *Full-Bodied*\n",
    "    - *Rich*\n",
    "    - *Sweet*\n",
    "    - *Briny*\n",
    "    - *Salty*\n",
    "    - *Vanilla*\n",
    "    - *Tart*\n",
    "    - *Fruity*\n",
    "    - *Floral* \n",
    "- Big-ticket items (classification of expensive varieties)\n",
    "- Reputation (tagging of whether people love it or those with poor expert reviews)\n",
    "- Bang-for-the-buck (expert score per price and user rating per price)\n",
    "- Flavor intensity (whether intense or subtle)"
   ]
  },
  {
   "cell_type": "markdown",
   "metadata": {},
   "source": [
    "## Package Imports and Data Load"
   ]
  },
  {
   "cell_type": "code",
   "execution_count": 1,
   "metadata": {},
   "outputs": [
    {
     "name": "stderr",
     "output_type": "stream",
     "text": [
      "/Users/Bryan/opt/anaconda3/lib/python3.7/site-packages/sklearn/externals/six.py:31: FutureWarning: The module is deprecated in version 0.21 and will be removed in version 0.23 since we've dropped support for Python 2.7. Please rely on the official version of six (https://pypi.org/project/six/).\n",
      "  \"(https://pypi.org/project/six/).\", FutureWarning)\n"
     ]
    }
   ],
   "source": [
    "### Needed libraries for Classification Modeling ###\n",
    "\n",
    "### Basic packages ###\n",
    "import numpy as np\n",
    "import pandas as pd \n",
    "\n",
    "### Modeling ###\n",
    "from sklearn.model_selection import train_test_split\n",
    "from sklearn import metrics\n",
    "from sklearn.model_selection import cross_val_score\n",
    "from sklearn.metrics import mean_squared_error, r2_score\n",
    "from sklearn.model_selection import GridSearchCV\n",
    "from sklearn.preprocessing import StandardScaler\n",
    "from sklearn.linear_model import LogisticRegression\n",
    "from sklearn.metrics import confusion_matrix\n",
    "from sklearn.metrics import classification_report\n",
    "from sklearn.preprocessing import binarize\n",
    "from sklearn.neighbors import KNeighborsClassifier\n",
    "from sklearn.metrics import f1_score\n",
    "from sklearn.tree import DecisionTreeRegressor\n",
    "from sklearn.tree import DecisionTreeClassifier\n",
    "from sklearn.externals.six import StringIO  \n",
    "from IPython.display import Image  \n",
    "from sklearn.tree import export_graphviz\n",
    "import pydotplus\n",
    "from sklearn.metrics import mean_squared_error\n",
    "from sklearn.ensemble import RandomForestClassifier\n",
    "from sklearn.ensemble import AdaBoostClassifier\n",
    "from sklearn.model_selection import StratifiedKFold\n",
    "from pprint import pprint\n",
    "from sklearn.model_selection import GridSearchCV\n",
    "from sklearn.model_selection import train_test_split\n",
    "from sklearn.naive_bayes import GaussianNB\n",
    "from sklearn.ensemble import GradientBoostingClassifier\n",
    "import itertools\n",
    "import statsmodels.api as sm\n",
    "from statsmodels.formula.api import ols\n",
    "import matplotlib.pyplot as plt\n",
    "import seaborn as sns\n",
    "from numpy import loadtxt\n",
    "from xgboost import XGBClassifier\n",
    "from sklearn.model_selection import learning_curve\n",
    "import imblearn\n",
    "from sklearn.preprocessing import LabelBinarizer\n",
    "from imblearn.under_sampling import RandomUnderSampler\n",
    "from imblearn.over_sampling import RandomOverSampler\n",
    "from imblearn.under_sampling import TomekLinks\n",
    "from imblearn.under_sampling import ClusterCentroids\n",
    "from imblearn.over_sampling import SMOTE\n",
    "from imblearn.combine import SMOTETomek\n",
    "from sklearn.metrics import roc_curve\n",
    "from sklearn.metrics import roc_auc_score\n",
    "\n",
    "\n",
    "\n",
    "sns.set()\n",
    "\n",
    "%matplotlib inline\n",
    "\n",
    "### Suppress notebook warnings ###\n",
    "import warnings\n",
    "warnings.filterwarnings('ignore')\n",
    "\n",
    "### Pandas settings to avoid exponential form and display all columns ###\n",
    "pd.set_option('display.float_format', lambda x: '%.3f' % x)\n",
    "pd.set_option('display.max_columns', None)"
   ]
  },
  {
   "cell_type": "code",
   "execution_count": 2,
   "metadata": {},
   "outputs": [],
   "source": [
    "df = pd.read_csv(\"whiskey_feat_engineered.csv\")"
   ]
  },
  {
   "cell_type": "code",
   "execution_count": 3,
   "metadata": {},
   "outputs": [],
   "source": [
    "del df['Unnamed: 0']"
   ]
  },
  {
   "cell_type": "markdown",
   "metadata": {},
   "source": [
    "Prepare dataframe that would summarize all the metrics from the models."
   ]
  },
  {
   "cell_type": "code",
   "execution_count": 4,
   "metadata": {},
   "outputs": [
    {
     "data": {
      "text/html": [
       "<div>\n",
       "<style scoped>\n",
       "    .dataframe tbody tr th:only-of-type {\n",
       "        vertical-align: middle;\n",
       "    }\n",
       "\n",
       "    .dataframe tbody tr th {\n",
       "        vertical-align: top;\n",
       "    }\n",
       "\n",
       "    .dataframe thead th {\n",
       "        text-align: right;\n",
       "    }\n",
       "</style>\n",
       "<table border=\"1\" class=\"dataframe\">\n",
       "  <thead>\n",
       "    <tr style=\"text-align: right;\">\n",
       "      <th></th>\n",
       "      <th>Model</th>\n",
       "      <th>Imbalance Handling</th>\n",
       "      <th>Accuracy</th>\n",
       "      <th>Precision</th>\n",
       "      <th>Recall</th>\n",
       "      <th>F1 Score</th>\n",
       "      <th>ROC AUC Score</th>\n",
       "    </tr>\n",
       "  </thead>\n",
       "  <tbody>\n",
       "  </tbody>\n",
       "</table>\n",
       "</div>"
      ],
      "text/plain": [
       "Empty DataFrame\n",
       "Columns: [Model, Imbalance Handling, Accuracy, Precision, Recall, F1 Score, ROC AUC Score]\n",
       "Index: []"
      ]
     },
     "execution_count": 4,
     "metadata": {},
     "output_type": "execute_result"
    }
   ],
   "source": [
    "global results_df\n",
    "results_df = pd.DataFrame(columns=['Model', 'Imbalance Handling','Accuracy', 'Precision', 'Recall', 'F1 Score', 'ROC AUC Score'])\n",
    "results_df"
   ]
  },
  {
   "cell_type": "markdown",
   "metadata": {},
   "source": [
    "## Functions for Reuse"
   ]
  },
  {
   "cell_type": "markdown",
   "metadata": {},
   "source": [
    "These are all the functions for reuse separated into corresponding Data Science process. This makes for faster modeling and cleaner code."
   ]
  },
  {
   "cell_type": "markdown",
   "metadata": {},
   "source": [
    "### Data Pre-Processing"
   ]
  },
  {
   "cell_type": "markdown",
   "metadata": {},
   "source": [
    "### Train Test Split"
   ]
  },
  {
   "cell_type": "code",
   "execution_count": 5,
   "metadata": {},
   "outputs": [],
   "source": [
    "def data_split(features, target):\n",
    "    '''\n",
    "    This function splits the dataset into training and testing.\n",
    "    \n",
    "    Parameter: \n",
    "        Features: independent variables\n",
    "        Target: dependent variable        \n",
    "          \n",
    "    Returns: \n",
    "        This returns the dataset split into four categories: features training and testing,\n",
    "        target training and testing.\n",
    "    \n",
    "    '''\n",
    "    X_train, X_test, y_train, y_test = train_test_split(features, target, random_state=42,test_size=0.2)\n",
    "    return {'X_train': X_train, 'X_test': X_test, 'y_train': y_train, 'y_test': y_test}"
   ]
  },
  {
   "cell_type": "markdown",
   "metadata": {},
   "source": [
    "### Scaling"
   ]
  },
  {
   "cell_type": "code",
   "execution_count": 6,
   "metadata": {},
   "outputs": [],
   "source": [
    "def scaler(features_train, features_test):\n",
    "\n",
    "    '''\n",
    "    This function scales/standardizes the features data with values 0 to 1. The resulting\n",
    "    columns are best used when comparing weights.\n",
    "    \n",
    "    Parameter: \n",
    "        features_train: independent variables for training\n",
    "        features_test: independent variables for testing       \n",
    "          \n",
    "    Returns: \n",
    "        This returns the standardized features.\n",
    "    \n",
    "    '''\n",
    "    \n",
    "    scaler = StandardScaler()  \n",
    "    scaler.fit(features_train)\n",
    "        \n",
    "    X_train_scaled = scaler.transform(features_train)  \n",
    "    X_test_scaled = scaler.transform(features_test)  \n",
    "    \n",
    "    return {'X_train_scaled': X_train_scaled, 'X_test_scaled': X_test_scaled}"
   ]
  },
  {
   "cell_type": "markdown",
   "metadata": {},
   "source": [
    "### Clasification Methods"
   ]
  },
  {
   "cell_type": "markdown",
   "metadata": {},
   "source": [
    "#### Logistic Regression"
   ]
  },
  {
   "cell_type": "code",
   "execution_count": 7,
   "metadata": {},
   "outputs": [],
   "source": [
    "def logistic_regression(features, target):\n",
    "    '''\n",
    "    This function runs logistic regression and outputs the model used for fitting later.\n",
    "    \n",
    "    Parameter: \n",
    "        features: independent variables for training\n",
    "        target: dependent variable for training       \n",
    "          \n",
    "    Returns: \n",
    "        This returns the logistic regression model.\n",
    "    '''\n",
    "    logistic_regression_model = LogisticRegression().fit(features, target)\n",
    "    return logistic_regression_model"
   ]
  },
  {
   "cell_type": "markdown",
   "metadata": {},
   "source": [
    "#### K-Nearest Neighbors"
   ]
  },
  {
   "cell_type": "code",
   "execution_count": 8,
   "metadata": {},
   "outputs": [],
   "source": [
    "def knn(features, target, n):\n",
    "    '''\n",
    "    This function runs k-nearest neighbor method and outputs the model used for fitting later.\n",
    "    \n",
    "    Parameter: \n",
    "        features: independent variables for training\n",
    "        target: dependent variable for training       \n",
    "        n: number of neighbors parameter\n",
    "    Returns: \n",
    "        This returns the knn model.\n",
    "    '''\n",
    "    knn_model = KNeighborsClassifier(n_neighbors=n)\n",
    "    knn_model = knn_model.fit(features, target)\n",
    "    return knn_model"
   ]
  },
  {
   "cell_type": "code",
   "execution_count": 9,
   "metadata": {},
   "outputs": [],
   "source": [
    "def knn_best_model(features_train, target_train, features_test, target_test):\n",
    "    '''\n",
    "    This function runs k-nearest neighbor models and checks the best n_neighbors variable.\n",
    "    \n",
    "    Parameter: \n",
    "        features: independent variables for training\n",
    "        target: dependent variable for training       \n",
    "          \n",
    "    Returns: \n",
    "        This returns a comparison of knn results with different number of neighbors as\n",
    "        parameter.\n",
    "    '''\n",
    "    k_range = list(range(1, 11))\n",
    "    k_scores = []\n",
    "    for k in k_range:\n",
    "        knn = KNeighborsClassifier(n_neighbors=k)\n",
    "        knn.fit(features_train, target_train)\n",
    "        y_predict = knn.predict(features_test)\n",
    "        score = f1_score(target_test, y_predict, average='weighted')\n",
    "        k_scores.append(score)\n",
    "        print(\"n = \" + str(k) + \" - \" + str(score))\n",
    "        \n",
    "    plt.figure(figsize=(12, 6))  \n",
    "    plt.plot(range(1, 11), k_scores, color='red', linestyle='dashed', marker='o',  \n",
    "             markerfacecolor='blue', markersize=10)\n",
    "    plt.title('F1 score by K Value')  \n",
    "    plt.xlabel('K Value')  \n",
    "    plt.ylabel('F1 Score') \n",
    "    plt.show()"
   ]
  },
  {
   "cell_type": "markdown",
   "metadata": {},
   "source": [
    "#### Decision Trees"
   ]
  },
  {
   "cell_type": "code",
   "execution_count": 10,
   "metadata": {},
   "outputs": [],
   "source": [
    "def decision_tree(features, target, depth):\n",
    "    '''\n",
    "    This function runs decision tree algorithm method and outputs the model used for \n",
    "    fitting later.\n",
    "    \n",
    "    Parameter: \n",
    "        features: independent variables for training\n",
    "        target: dependent variable for training       \n",
    "        depth: maximum depth parameter\n",
    "    Returns: \n",
    "        This returns the decision tree model.\n",
    "    '''\n",
    "    decision_tree_model = DecisionTreeClassifier(max_depth = depth)\n",
    "    decision_tree_model.fit(features, target)    \n",
    "    \n",
    "    dot_data = StringIO()\n",
    "    export_graphviz(decision_tree_model, out_file=dot_data,  \n",
    "                    rounded=True,\n",
    "                    special_characters=True)\n",
    "    graph = pydotplus.graph_from_dot_data(dot_data.getvalue())  \n",
    "    Image(graph.create_png())\n",
    "    return decision_tree_model"
   ]
  },
  {
   "cell_type": "code",
   "execution_count": 11,
   "metadata": {},
   "outputs": [],
   "source": [
    "def decision_tree_best_model(features, target):\n",
    "    '''\n",
    "    This function runs decision tree models models and checks the best depth parameter.\n",
    "    \n",
    "    Parameter: \n",
    "        features: independent variables for training\n",
    "        target: dependent variable for training       \n",
    "          \n",
    "    Returns: \n",
    "        This returns a comparison of decision tree results with different depths as\n",
    "        parameter.\n",
    "    '''\n",
    "    depth_range = range(1,10)\n",
    "    val = []\n",
    "    for depth in depth_range:\n",
    "        ctree = DecisionTreeClassifier(max_depth = depth)\n",
    "        depth_score = cross_val_score(ctree, features, target, cv = 10)\n",
    "        val.append(depth_score.mean())\n",
    "        print(str(depth_range) + \" - \" + str(depth_score.mean()))\n",
    "    plt.figure(figsize = (10,10))\n",
    "    plt.plot(depth_range, val)\n",
    "    plt.xlabel('range of depth')\n",
    "    plt.ylabel('cross validated values')\n",
    "    plt.show()"
   ]
  },
  {
   "cell_type": "markdown",
   "metadata": {},
   "source": [
    "#### Random Forest"
   ]
  },
  {
   "cell_type": "code",
   "execution_count": 12,
   "metadata": {},
   "outputs": [],
   "source": [
    "def random_forest(features, target, params, baseline):\n",
    "    '''\n",
    "    This function runs random forest algorithm method and outputs the model used for \n",
    "    fitting later.\n",
    "    \n",
    "    Parameter: \n",
    "        features: independent variables for training\n",
    "        target: dependent variable for training       \n",
    "        params: parameters after hypertuning\n",
    "        baseline: set to True if to run initial, baseline model\n",
    "    Returns: \n",
    "        This returns the random forest model.\n",
    "    '''\n",
    "    if (params == None) & (baseline == True):\n",
    "        random_forest_model = RandomForestClassifier(random_state = 42)\n",
    "        random_forest_model.fit(features, target)\n",
    "        print(random_forest_model.get_params())\n",
    "        return random_forest_model\n",
    "    else:\n",
    "        random_forest_model = RandomForestClassifier(**params, random_state = 42)\n",
    "        random_forest_model.fit(features, target)\n",
    "        return random_forest_model"
   ]
  },
  {
   "cell_type": "markdown",
   "metadata": {},
   "source": [
    "#### Adaptive Boosting"
   ]
  },
  {
   "cell_type": "code",
   "execution_count": 13,
   "metadata": {},
   "outputs": [],
   "source": [
    "def adaboost(features, target, params, baseline):\n",
    "    '''\n",
    "    This function runs adaptive boosting ensemble method and outputs the model used for \n",
    "    fitting later.\n",
    "    \n",
    "    Parameter: \n",
    "        features: independent variables for training\n",
    "        target: dependent variable for training       \n",
    "        params: parameters after hypertuning\n",
    "        baseline: set to True if to run initial, baseline model\n",
    "    Returns: \n",
    "        This returns the adaptive boosting model.\n",
    "    '''\n",
    "    if (params == None) & (baseline == True):\n",
    "        adaboost_model = AdaBoostClassifier(n_estimators=100, base_estimator= None,learning_rate=1, random_state = 42)\n",
    "        adaboost_model.fit(features, target)\n",
    "        print(adaboost_model)\n",
    "        return adaboost_model\n",
    "    else:\n",
    "        adaboost_model = AdaBoostClassifier(**params)\n",
    "        adaboost_model.fit(features, target)\n",
    "        return adaboost_model"
   ]
  },
  {
   "cell_type": "markdown",
   "metadata": {},
   "source": [
    "#### Gradient Boosting"
   ]
  },
  {
   "cell_type": "code",
   "execution_count": 14,
   "metadata": {},
   "outputs": [],
   "source": [
    "def gradientboost(features, target, params, baseline):\n",
    "    '''\n",
    "    This function runs gradient boosting ensemble method and outputs the model used for \n",
    "    fitting later.\n",
    "    \n",
    "    Parameter: \n",
    "        features: independent variables for training\n",
    "        target: dependent variable for training       \n",
    "        params: parameters after hypertuning\n",
    "        baseline: set to True if to run initial, baseline model\n",
    "    Returns: \n",
    "        This returns the gradient boosting model.\n",
    "    '''\n",
    "    if (params == None) & (baseline == True):\n",
    "        params_baseline = {\n",
    "        'n_estimators': 1,\n",
    "        'max_depth': 1,\n",
    "        'learning_rate': 1,\n",
    "        'criterion': 'mse',\n",
    "        'random_state': 42\n",
    "        }\n",
    "\n",
    "        gradient_boost_model = GradientBoostingClassifier(**params_baseline)\n",
    "        gradient_boost_model.fit(features, target)\n",
    "        return gradient_boost_model\n",
    "\n",
    "    else:\n",
    "        gradient_boost_model = GradientBoostingClassifier(**params, random_state = 42)\n",
    "        gradient_boost_model.fit(features, target)\n",
    "        return gradient_boost_model"
   ]
  },
  {
   "cell_type": "markdown",
   "metadata": {},
   "source": [
    "#### Extreme Gradient Boosting (XGBoost)"
   ]
  },
  {
   "cell_type": "code",
   "execution_count": 15,
   "metadata": {},
   "outputs": [],
   "source": [
    "def xgboost(features, target, params, baseline):\n",
    "    '''\n",
    "    This function runs xgboosting ensemble method and outputs the model used for \n",
    "    fitting later.\n",
    "    \n",
    "    Parameter: \n",
    "        features: independent variables for training\n",
    "        target: dependent variable for training       \n",
    "        params: parameters after hypertuning\n",
    "        baseline: set to True if to run initial, baseline model\n",
    "    Returns: \n",
    "        This returns the xgboosting model.\n",
    "    '''\n",
    "    if (params == None) & (baseline == True):\n",
    "        xgboost_model = XGBClassifier(n_jobs = -1)\n",
    "        xgboost_model.fit(features, target)\n",
    "        print(xgboost_model)\n",
    "        return xgboost_model\n",
    "    else:\n",
    "        xgboost_model = XGBClassifier(**params)\n",
    "        xgboost_model.fit(features, target)\n",
    "        return xgboost_model"
   ]
  },
  {
   "cell_type": "markdown",
   "metadata": {},
   "source": [
    "#### Naive Bayes"
   ]
  },
  {
   "cell_type": "code",
   "execution_count": 16,
   "metadata": {},
   "outputs": [],
   "source": [
    "def naive_bayes(features, target):\n",
    "    '''\n",
    "    This function runs naive bayes method and outputs the model used for \n",
    "    fitting later.\n",
    "    \n",
    "    Parameter: \n",
    "        features: independent variables for training\n",
    "        target: dependent variable for training       \n",
    "\n",
    "    Returns: \n",
    "        This returns the naive bayes model.\n",
    "    '''\n",
    "    naive_bayes_model = GaussianNB()\n",
    "    naive_bayes_model.fit(features, target)\n",
    "    return naive_bayes_model"
   ]
  },
  {
   "cell_type": "markdown",
   "metadata": {},
   "source": [
    "### Scoring and Evaluation"
   ]
  },
  {
   "cell_type": "markdown",
   "metadata": {},
   "source": [
    "#### Grid Search Cross Validation"
   ]
  },
  {
   "cell_type": "code",
   "execution_count": 17,
   "metadata": {},
   "outputs": [],
   "source": [
    "def grid_search_cv(model, features, target, params, n_jobs, cv):\n",
    "    '''\n",
    "    This function automatically runs grid search cross validation for hyperparameter tuning\n",
    "    and determining the set of parameters that would produce the best results.\n",
    "    \n",
    "    Parameter: \n",
    "        model: model to be used for fitting\n",
    "        features: independent variables\n",
    "        target: dependent variable       \n",
    "        params: parameters after hypertuning\n",
    "        n_jobs: number of parallel jobs to run\n",
    "        cv: number of cross-validation folds\n",
    "        \n",
    "    Returns: \n",
    "        This returns the best parameters.\n",
    "    '''\n",
    "    grid_search = GridSearchCV(estimator = model, param_grid = params, \n",
    "                          n_jobs=n_jobs, cv = cv)\n",
    "    grid_search.fit(features, target)\n",
    "    return grid_search.best_params_"
   ]
  },
  {
   "cell_type": "markdown",
   "metadata": {},
   "source": [
    "#### Standard Scores"
   ]
  },
  {
   "cell_type": "code",
   "execution_count": 18,
   "metadata": {},
   "outputs": [],
   "source": [
    "def score_model(model, handling, features_train, target_train, features_test, target_test):\n",
    "    '''\n",
    "    This function automatically runs the model inputted and calculates the following\n",
    "    metrics: accuracy, precision, recall, and F1 score. Then this appends to the summary\n",
    "    table initialized earlier that would list all results of all models run. This is for\n",
    "    easier comparison and model evaluation. Finally, this also outputs the corresponding\n",
    "    confusion matrix of the model.\n",
    "    \n",
    "    Parameter: \n",
    "        model: model to be used for fitting\n",
    "        features_train: independent variables for training\n",
    "        target_train: dependent variable for training      \n",
    "        features_train: independent variables for testing\n",
    "        target_train: dependent variable for testing  \n",
    "        \n",
    "    Returns: \n",
    "        This returns all the pertinent metrics, confusion matrix and appends to the summary\n",
    "        dataframe.\n",
    "    '''\n",
    "    predictions = model.predict(features_test)\n",
    "    accuracy = metrics.accuracy_score(target_test, predictions)\n",
    "    precision = metrics.precision_score(target_test, predictions, average='weighted')\n",
    "    recall = metrics.recall_score(target_test, predictions, average='weighted')\n",
    "    f1 = metrics.f1_score(target_test, predictions, average='weighted')\n",
    "    y_pred_prob = model.predict_proba(features_test)[:, 1]\n",
    "    \n",
    "    lb = LabelBinarizer()\n",
    "    lb.fit(target_test)\n",
    "    y_test = lb.transform(target_test)\n",
    "    \n",
    "    y_pred = model.predict(features_test)\n",
    "    y_pred = lb.transform(y_pred)\n",
    "    #return roc_auc_score(y_test, y_pred, average=average)\n",
    "    \n",
    "    roc_auc = metrics.roc_auc_score(y_test, y_pred, average=\"weighted\")\n",
    "    #cv = cross_val_score(model, features, target, cv=10, scoring='roc_auc').mean()\n",
    "        \n",
    "    cm = confusion_matrix(target_test, predictions)\n",
    "    classes = ['Scotch', 'American', 'Canadian', 'Irish', 'Japanese']\n",
    "    \n",
    "    plot_confusion_matrix(cm, classes,\n",
    "                          normalize=False,\n",
    "                          title='Confusion matrix',\n",
    "                          cmap=plt.cm.Blues)\n",
    "    global results_df\n",
    "    results_df = results_df.append({'Model': str(model).split('(')[0], 'Imbalance Handling' : handling , 'Accuracy' : accuracy, 'Precision' : precision, 'Recall': recall,  'F1 Score': f1, 'ROC AUC Score' : roc_auc} , ignore_index=True)"
   ]
  },
  {
   "cell_type": "markdown",
   "metadata": {},
   "source": [
    "#### Feature Importance"
   ]
  },
  {
   "cell_type": "code",
   "execution_count": 19,
   "metadata": {},
   "outputs": [],
   "source": [
    "def feature_importance(model):\n",
    "#     importances = model.feature_importances_\n",
    "#     std = np.std([model.feature_importances_ for tree in model.estimators_],\n",
    "#                  axis=0)\n",
    "#     indices = np.argsort(importances)[::-1]\n",
    "\n",
    "#     # Print the feature ranking\n",
    "#     print(\"Feature ranking:\")\n",
    "\n",
    "#     for f in range(X.shape[1]):\n",
    "#         print(\"%d. \" + X.column[f] + \"feature %d (%f)\" % (f + 1, indices[f], importances[indices[f]]))\n",
    "\n",
    "#     # Plot the feature importances of the forest\n",
    "#     plt.figure()\n",
    "#     plt.title(\"Feature importances\")\n",
    "#     plt.bar(range(X.shape[1]), importances[indices],\n",
    "#            color=\"r\", yerr=std[indices], align=\"center\")\n",
    "#     plt.xticks(range(X.shape[1]), indices)\n",
    "#     plt.xlim([-1, X.shape[1]])\n",
    "#     plt.show()\n",
    "\n",
    "    feats = {} # a dict to hold feature_name: feature_importance\n",
    "    for feature, importance in zip(df.columns, model.feature_importances_):\n",
    "        feats[feature] = importance #add the name/value pair \n",
    "\n",
    "    importances = pd.DataFrame.from_dict(feats, orient='index').rename(columns={0: 'Gini-importance'})\n",
    "    importances.sort_values(by='Gini-importance').plot(kind='bar', rot=90)\n"
   ]
  },
  {
   "cell_type": "markdown",
   "metadata": {},
   "source": [
    "#### Confusion Matrix"
   ]
  },
  {
   "cell_type": "code",
   "execution_count": 20,
   "metadata": {},
   "outputs": [],
   "source": [
    "def plot_confusion_matrix(cm, classes,\n",
    "                          normalize=False,\n",
    "                          title='Confusion matrix',\n",
    "                          cmap=plt.cm.Blues):\n",
    "    '''\n",
    "    This function automatically plots the confusion matrix.\n",
    "    \n",
    "    Parameter: \n",
    "        cm: confusion matrix from the scoring function\n",
    "        normalize: True if to be normalized\n",
    "        title: title of the confusion matrix\n",
    "        cmap: plotting method\n",
    "        \n",
    "    Returns: \n",
    "        This returns a graphical confusion matrix\n",
    "    '''\n",
    "    if normalize:\n",
    "        cm = cm.astype('float') / cm.sum(axis=1)[:, np.newaxis]\n",
    "        print(\"Normalized confusion matrix\")\n",
    "    else:\n",
    "        print('Confusion Matrix, without normalization')\n",
    "\n",
    "    print(cm)\n",
    "\n",
    "    plt.imshow(cm, interpolation='nearest', cmap=cmap)\n",
    "    plt.title(title)\n",
    "    plt.colorbar()\n",
    "    tick_marks = np.arange(len(classes))\n",
    "    plt.xticks(tick_marks, classes, rotation=45)\n",
    "    plt.yticks(tick_marks, classes)\n",
    "\n",
    "    fmt = '.2f' if normalize else 'd'\n",
    "    thresh = cm.max() / 2.\n",
    "    for i, j in itertools.product(range(cm.shape[0]), range(cm.shape[1])):\n",
    "        plt.text(j, i, format(cm[i, j], fmt),\n",
    "                 horizontalalignment=\"center\",\n",
    "                 color=\"white\" if cm[i, j] > thresh else \"black\")\n",
    "\n",
    "    plt.tight_layout()\n",
    "    plt.ylabel('True label')\n",
    "    plt.xlabel('Predicted label')"
   ]
  },
  {
   "cell_type": "markdown",
   "metadata": {},
   "source": [
    "### Handling Class Imbalance"
   ]
  },
  {
   "cell_type": "markdown",
   "metadata": {},
   "source": [
    "#### Random Undersampling"
   ]
  },
  {
   "cell_type": "code",
   "execution_count": 21,
   "metadata": {},
   "outputs": [],
   "source": [
    "def random_undersampling(X_train, y_train):\n",
    "    '''\n",
    "    This function runs random undersampling to address class imbalance.\n",
    "    \n",
    "    Parameter: \n",
    "        X_train - independent variables for training\n",
    "        y_train - dependent variable for training\n",
    "        \n",
    "    Returns: \n",
    "        This returns an updated dataset with random undersampling implemented.\n",
    "    '''\n",
    "    rus = RandomUnderSampler(random_state = 42)\n",
    "    X_train, y_train = rus.fit_sample(X_train, y_train)\n",
    "    return {'X_train': X_train, 'y_train': y_train}"
   ]
  },
  {
   "cell_type": "markdown",
   "metadata": {},
   "source": [
    "#### Random Oversampling"
   ]
  },
  {
   "cell_type": "code",
   "execution_count": 22,
   "metadata": {},
   "outputs": [],
   "source": [
    "def random_oversampling(X_train, y_train):\n",
    "    '''\n",
    "    This function runs random oversampling to address class imbalance.\n",
    "    \n",
    "    Parameter: \n",
    "        X_train - independent variables for training\n",
    "        y_train - dependent variable for training\n",
    "        \n",
    "    Returns: \n",
    "        This returns an updated dataset with random oversampling implemented.\n",
    "    '''\n",
    "    ros = RandomOverSampler(random_state = 42)\n",
    "    X_train, y_train = ros.fit_sample(X_train, y_train)\n",
    "    return {'X_train': X_train, 'y_train': y_train}"
   ]
  },
  {
   "cell_type": "markdown",
   "metadata": {},
   "source": [
    "#### Tomek Links"
   ]
  },
  {
   "cell_type": "code",
   "execution_count": 23,
   "metadata": {},
   "outputs": [],
   "source": [
    "def tomek_links(X_train, y_train):\n",
    "    '''\n",
    "    This function runs tomek link undersampling to address class imbalance.\n",
    "    \n",
    "    Parameter: \n",
    "        X_train - independent variables for training\n",
    "        y_train - dependent variable for training\n",
    "        \n",
    "    Returns: \n",
    "        This returns an updated dataset with tomek link undersampling implemented.\n",
    "    '''\n",
    "    tl = TomekLinks()\n",
    "    X_train, y_train = tl.fit_sample(X_train, y_train)\n",
    "    return {'X_train': X_train, 'y_train': y_train}"
   ]
  },
  {
   "cell_type": "markdown",
   "metadata": {},
   "source": [
    "#### Cluster Centroids"
   ]
  },
  {
   "cell_type": "code",
   "execution_count": 24,
   "metadata": {},
   "outputs": [],
   "source": [
    "def cluster_centroids(X_train, y_train):\n",
    "    '''\n",
    "    This function runs cluster centroids to address class imbalance.\n",
    "    \n",
    "    Parameter: \n",
    "        X_train - independent variables for training\n",
    "        y_train - dependent variable for training\n",
    "        \n",
    "    Returns: \n",
    "        This returns an updated dataset with cluster centroids implemented.\n",
    "    '''\n",
    "    cc = ClusterCentroids(random_state = 42)\n",
    "    X_train, y_train = cc.fit_sample(X_train, y_train)\n",
    "    return {'X_train': X_train, 'y_train': y_train}"
   ]
  },
  {
   "cell_type": "markdown",
   "metadata": {},
   "source": [
    "#### SMOTE"
   ]
  },
  {
   "cell_type": "code",
   "execution_count": 25,
   "metadata": {},
   "outputs": [],
   "source": [
    "def smote(X_train, y_train):\n",
    "    '''\n",
    "    This function runs SMOTE to address class imbalance.\n",
    "    \n",
    "    Parameter: \n",
    "        X_train - independent variables for training\n",
    "        y_train - dependent variable for training\n",
    "        \n",
    "    Returns: \n",
    "        This returns an updated dataset with SMOTE implemented.\n",
    "    '''\n",
    "    smote = SMOTE(random_state = 42)\n",
    "    X_train, y_train = smote.fit_sample(X_train, y_train)\n",
    "    return {'X_train': X_train, 'y_train': y_train}"
   ]
  },
  {
   "cell_type": "markdown",
   "metadata": {},
   "source": [
    "#### SMOTETomek"
   ]
  },
  {
   "cell_type": "code",
   "execution_count": 26,
   "metadata": {},
   "outputs": [],
   "source": [
    "def smote_tomek(X_train, y_train):\n",
    "    '''\n",
    "    This function runs a combination of SMOTE and tomek link to address class imbalance.\n",
    "    \n",
    "    Parameter: \n",
    "        X_train - independent variables for training\n",
    "        y_train - dependent variable for training\n",
    "        \n",
    "    Returns: \n",
    "        This returns an updated dataset with SMOTE and tomek link implemented.\n",
    "    '''\n",
    "    smt = SMOTETomek(random_state = 42)\n",
    "    X_train, y_train = smt.fit_sample(X_train, y_train)\n",
    "    return {'X_train': X_train, 'y_train': y_train}"
   ]
  },
  {
   "cell_type": "markdown",
   "metadata": {},
   "source": [
    "## Feature Selection"
   ]
  },
  {
   "cell_type": "markdown",
   "metadata": {},
   "source": [
    "This is where the target and features are to be declared because all the modelling will happen automatically. "
   ]
  },
  {
   "cell_type": "code",
   "execution_count": 27,
   "metadata": {},
   "outputs": [
    {
     "data": {
      "text/plain": [
       "Index(['name', 'type', 'price', 'expert_score', 'user_rating', 'description',\n",
       "       'abv', 'style', 'cask', 'review', 'smoky', 'peaty', 'spicy', 'herbal',\n",
       "       'oily', 'full-bodied', 'rich', 'sweet', 'briny', 'salty', 'vanilla',\n",
       "       'tart', 'fruity', 'floral', 'country', 'countries_cat', 'cask_category',\n",
       "       'cask_cat_num', 'type_num', 'big_ticket', 'poor_performer',\n",
       "       'people_love_this', 'escore_per_price', 'urating_per_price',\n",
       "       'flavor_intensity'],\n",
       "      dtype='object')"
      ]
     },
     "execution_count": 27,
     "metadata": {},
     "output_type": "execute_result"
    }
   ],
   "source": [
    "df.columns"
   ]
  },
  {
   "cell_type": "markdown",
   "metadata": {},
   "source": [
    "Set independent variables with dummy data through One Hot Encoding"
   ]
  },
  {
   "cell_type": "code",
   "execution_count": 28,
   "metadata": {},
   "outputs": [],
   "source": [
    "dummies = pd.get_dummies(df['cask_category'], drop_first=True)\n",
    "df = pd.concat([df, dummies], axis = 1)\n",
    "dummies = pd.get_dummies(df['type'], drop_first=True)\n",
    "df = pd.concat([df, dummies], axis = 1)"
   ]
  },
  {
   "cell_type": "code",
   "execution_count": 29,
   "metadata": {},
   "outputs": [
    {
     "data": {
      "text/plain": [
       "Index(['name', 'type', 'price', 'expert_score', 'user_rating', 'description',\n",
       "       'abv', 'style', 'cask', 'review', 'smoky', 'peaty', 'spicy', 'herbal',\n",
       "       'oily', 'full-bodied', 'rich', 'sweet', 'briny', 'salty', 'vanilla',\n",
       "       'tart', 'fruity', 'floral', 'country', 'countries_cat', 'cask_category',\n",
       "       'cask_cat_num', 'type_num', 'big_ticket', 'poor_performer',\n",
       "       'people_love_this', 'escore_per_price', 'urating_per_price',\n",
       "       'flavor_intensity', 'bourbon_oak', 'bourbon_sherry', 'new', 'oak',\n",
       "       'other', 'sherry', 'sherry_oak', 'used', 'wine', 'Bourbon', 'Canadian',\n",
       "       'Flavored Whiskey', 'Grain Whiskey', 'Grain Whisky', 'Other Whiskey',\n",
       "       'Rye', 'Single Malt', 'Single Pot Still', 'Tennessee', 'White'],\n",
       "      dtype='object')"
      ]
     },
     "execution_count": 29,
     "metadata": {},
     "output_type": "execute_result"
    }
   ],
   "source": [
    "df.columns"
   ]
  },
  {
   "cell_type": "markdown",
   "metadata": {},
   "source": [
    "Set dependent variable"
   ]
  },
  {
   "cell_type": "code",
   "execution_count": 30,
   "metadata": {},
   "outputs": [],
   "source": [
    "target = df['country']"
   ]
  },
  {
   "cell_type": "markdown",
   "metadata": {},
   "source": [
    "Set independent variables"
   ]
  },
  {
   "cell_type": "code",
   "execution_count": 31,
   "metadata": {},
   "outputs": [],
   "source": [
    "features_rf = df[['smoky', 'peaty', 'spicy', 'herbal', 'oily', 'full-bodied', 'rich', 'sweet', \n",
    "               'briny', 'salty', 'vanilla', 'tart', 'fruity', 'floral', 'type_num', 'price',\n",
    "               'expert_score', 'user_rating', 'abv', 'cask_cat_num', 'big_ticket',  \n",
    "               'poor_performer', 'people_love_this', 'escore_per_price', 'urating_per_price',\n",
    "               'flavor_intensity']]"
   ]
  },
  {
   "cell_type": "code",
   "execution_count": 32,
   "metadata": {},
   "outputs": [],
   "source": [
    "features = df[['price', 'expert_score', 'user_rating','abv', 'smoky', 'peaty',\n",
    "       'spicy', 'herbal', 'oily', 'full-bodied', 'rich', 'sweet', 'briny', 'salty', \n",
    "       'vanilla', 'tart', 'fruity', 'floral', 'big_ticket', 'poor_performer',\n",
    "       'people_love_this', 'escore_per_price', 'urating_per_price',\n",
    "       'flavor_intensity', 'bourbon_oak', 'bourbon_sherry', 'new', 'oak',\n",
    "       'other', 'sherry', 'sherry_oak', 'used', 'wine', 'Bourbon', 'Canadian',\n",
    "       'Flavored Whiskey', 'Grain Whiskey', 'Grain Whisky', 'Other Whiskey',\n",
    "       'Rye', 'Single Malt', 'Single Pot Still', 'Tennessee', 'White']]"
   ]
  },
  {
   "cell_type": "code",
   "execution_count": 33,
   "metadata": {},
   "outputs": [
    {
     "data": {
      "text/plain": [
       "(2662, 55)"
      ]
     },
     "execution_count": 33,
     "metadata": {},
     "output_type": "execute_result"
    }
   ],
   "source": [
    "df.shape"
   ]
  },
  {
   "cell_type": "markdown",
   "metadata": {},
   "source": [
    "Train test split of the dataset as best practice prior to modeling."
   ]
  },
  {
   "cell_type": "code",
   "execution_count": 34,
   "metadata": {},
   "outputs": [],
   "source": [
    "split = data_split(features,target)\n",
    "split_rf = data_split(features_rf, target)"
   ]
  },
  {
   "cell_type": "markdown",
   "metadata": {},
   "source": [
    "## Top 5 Models"
   ]
  },
  {
   "cell_type": "markdown",
   "metadata": {},
   "source": [
    "This section is where we select the top 5 models for further improvement and evaluation. We are choosing F1 score as the basis because we are treating Precision and Recall with equal importance. Our dataset is not sensitive like health/cancer data, so we are also treating all of our classes with equal priority. Also note that since this is a multi-class problem, we selected weighted as the averaging method over micro and macro. Micro tends to give more importance to majority of the data while macro does the opposite. Because we have imbalanced classes, we opted to use weighted as mentioned."
   ]
  },
  {
   "cell_type": "code",
   "execution_count": 35,
   "metadata": {},
   "outputs": [],
   "source": [
    "summary_df = pd.read_csv(\"results_summary.csv\")"
   ]
  },
  {
   "cell_type": "code",
   "execution_count": 36,
   "metadata": {},
   "outputs": [],
   "source": [
    "del summary_df['Unnamed: 0']"
   ]
  },
  {
   "cell_type": "code",
   "execution_count": 37,
   "metadata": {},
   "outputs": [
    {
     "data": {
      "text/html": [
       "<div>\n",
       "<style scoped>\n",
       "    .dataframe tbody tr th:only-of-type {\n",
       "        vertical-align: middle;\n",
       "    }\n",
       "\n",
       "    .dataframe tbody tr th {\n",
       "        vertical-align: top;\n",
       "    }\n",
       "\n",
       "    .dataframe thead th {\n",
       "        text-align: right;\n",
       "    }\n",
       "</style>\n",
       "<table border=\"1\" class=\"dataframe\">\n",
       "  <thead>\n",
       "    <tr style=\"text-align: right;\">\n",
       "      <th></th>\n",
       "      <th>Model</th>\n",
       "      <th>Imbalance Handling</th>\n",
       "      <th>Accuracy</th>\n",
       "      <th>Precision</th>\n",
       "      <th>Recall</th>\n",
       "      <th>F1 Score</th>\n",
       "      <th>ROC AUC Score</th>\n",
       "    </tr>\n",
       "  </thead>\n",
       "  <tbody>\n",
       "    <tr>\n",
       "      <td>0</td>\n",
       "      <td>LogisticRegression</td>\n",
       "      <td>None</td>\n",
       "      <td>0.760</td>\n",
       "      <td>0.702</td>\n",
       "      <td>0.760</td>\n",
       "      <td>0.729</td>\n",
       "      <td>0.809</td>\n",
       "    </tr>\n",
       "    <tr>\n",
       "      <td>1</td>\n",
       "      <td>KNeighborsClassifier</td>\n",
       "      <td>None</td>\n",
       "      <td>0.848</td>\n",
       "      <td>0.846</td>\n",
       "      <td>0.848</td>\n",
       "      <td>0.847</td>\n",
       "      <td>0.894</td>\n",
       "    </tr>\n",
       "    <tr>\n",
       "      <td>2</td>\n",
       "      <td>KNeighborsClassifier</td>\n",
       "      <td>None</td>\n",
       "      <td>0.867</td>\n",
       "      <td>0.853</td>\n",
       "      <td>0.867</td>\n",
       "      <td>0.853</td>\n",
       "      <td>0.898</td>\n",
       "    </tr>\n",
       "    <tr>\n",
       "      <td>3</td>\n",
       "      <td>DecisionTreeClassifier</td>\n",
       "      <td>None</td>\n",
       "      <td>0.775</td>\n",
       "      <td>0.702</td>\n",
       "      <td>0.775</td>\n",
       "      <td>0.736</td>\n",
       "      <td>0.813</td>\n",
       "    </tr>\n",
       "    <tr>\n",
       "      <td>4</td>\n",
       "      <td>DecisionTreeClassifier</td>\n",
       "      <td>None</td>\n",
       "      <td>0.807</td>\n",
       "      <td>0.728</td>\n",
       "      <td>0.807</td>\n",
       "      <td>0.764</td>\n",
       "      <td>0.839</td>\n",
       "    </tr>\n",
       "  </tbody>\n",
       "</table>\n",
       "</div>"
      ],
      "text/plain": [
       "                    Model Imbalance Handling  Accuracy  Precision  Recall  \\\n",
       "0      LogisticRegression               None     0.760      0.702   0.760   \n",
       "1    KNeighborsClassifier               None     0.848      0.846   0.848   \n",
       "2    KNeighborsClassifier               None     0.867      0.853   0.867   \n",
       "3  DecisionTreeClassifier               None     0.775      0.702   0.775   \n",
       "4  DecisionTreeClassifier               None     0.807      0.728   0.807   \n",
       "\n",
       "   F1 Score  ROC AUC Score  \n",
       "0     0.729          0.809  \n",
       "1     0.847          0.894  \n",
       "2     0.853          0.898  \n",
       "3     0.736          0.813  \n",
       "4     0.764          0.839  "
      ]
     },
     "execution_count": 37,
     "metadata": {},
     "output_type": "execute_result"
    }
   ],
   "source": [
    "summary_df.head(5)"
   ]
  },
  {
   "cell_type": "code",
   "execution_count": 38,
   "metadata": {},
   "outputs": [],
   "source": [
    "sorted_df = summary_df.sort_values(by=['F1 Score'], ascending=False)"
   ]
  },
  {
   "cell_type": "code",
   "execution_count": 39,
   "metadata": {},
   "outputs": [
    {
     "data": {
      "text/html": [
       "<div>\n",
       "<style scoped>\n",
       "    .dataframe tbody tr th:only-of-type {\n",
       "        vertical-align: middle;\n",
       "    }\n",
       "\n",
       "    .dataframe tbody tr th {\n",
       "        vertical-align: top;\n",
       "    }\n",
       "\n",
       "    .dataframe thead th {\n",
       "        text-align: right;\n",
       "    }\n",
       "</style>\n",
       "<table border=\"1\" class=\"dataframe\">\n",
       "  <thead>\n",
       "    <tr style=\"text-align: right;\">\n",
       "      <th></th>\n",
       "      <th>Model</th>\n",
       "      <th>Imbalance Handling</th>\n",
       "      <th>Accuracy</th>\n",
       "      <th>Precision</th>\n",
       "      <th>Recall</th>\n",
       "      <th>F1 Score</th>\n",
       "      <th>ROC AUC Score</th>\n",
       "    </tr>\n",
       "  </thead>\n",
       "  <tbody>\n",
       "    <tr>\n",
       "      <td>34</td>\n",
       "      <td>RandomForestClassifier</td>\n",
       "      <td>Random Oversampling</td>\n",
       "      <td>0.882</td>\n",
       "      <td>0.877</td>\n",
       "      <td>0.882</td>\n",
       "      <td>0.873</td>\n",
       "      <td>0.906</td>\n",
       "    </tr>\n",
       "    <tr>\n",
       "      <td>33</td>\n",
       "      <td>RandomForestClassifier</td>\n",
       "      <td>Random Oversampling</td>\n",
       "      <td>0.884</td>\n",
       "      <td>0.886</td>\n",
       "      <td>0.884</td>\n",
       "      <td>0.868</td>\n",
       "      <td>0.903</td>\n",
       "    </tr>\n",
       "    <tr>\n",
       "      <td>75</td>\n",
       "      <td>RandomForestClassifier</td>\n",
       "      <td>SMOTE</td>\n",
       "      <td>0.874</td>\n",
       "      <td>0.864</td>\n",
       "      <td>0.874</td>\n",
       "      <td>0.864</td>\n",
       "      <td>0.900</td>\n",
       "    </tr>\n",
       "    <tr>\n",
       "      <td>94</td>\n",
       "      <td>GradientBoostingClassifier</td>\n",
       "      <td>SMOTE Tomek</td>\n",
       "      <td>0.867</td>\n",
       "      <td>0.862</td>\n",
       "      <td>0.867</td>\n",
       "      <td>0.864</td>\n",
       "      <td>0.906</td>\n",
       "    </tr>\n",
       "    <tr>\n",
       "      <td>38</td>\n",
       "      <td>GradientBoostingClassifier</td>\n",
       "      <td>Random Oversampling</td>\n",
       "      <td>0.872</td>\n",
       "      <td>0.866</td>\n",
       "      <td>0.872</td>\n",
       "      <td>0.863</td>\n",
       "      <td>0.901</td>\n",
       "    </tr>\n",
       "    <tr>\n",
       "      <td>10</td>\n",
       "      <td>GradientBoostingClassifier</td>\n",
       "      <td>None</td>\n",
       "      <td>0.878</td>\n",
       "      <td>0.877</td>\n",
       "      <td>0.878</td>\n",
       "      <td>0.863</td>\n",
       "      <td>0.900</td>\n",
       "    </tr>\n",
       "    <tr>\n",
       "      <td>80</td>\n",
       "      <td>GradientBoostingClassifier</td>\n",
       "      <td>SMOTE</td>\n",
       "      <td>0.867</td>\n",
       "      <td>0.857</td>\n",
       "      <td>0.867</td>\n",
       "      <td>0.861</td>\n",
       "      <td>0.904</td>\n",
       "    </tr>\n",
       "    <tr>\n",
       "      <td>40</td>\n",
       "      <td>XGBClassifier</td>\n",
       "      <td>Random Oversampling</td>\n",
       "      <td>0.857</td>\n",
       "      <td>0.864</td>\n",
       "      <td>0.857</td>\n",
       "      <td>0.860</td>\n",
       "      <td>0.902</td>\n",
       "    </tr>\n",
       "    <tr>\n",
       "      <td>82</td>\n",
       "      <td>XGBClassifier</td>\n",
       "      <td>SMOTE</td>\n",
       "      <td>0.859</td>\n",
       "      <td>0.856</td>\n",
       "      <td>0.859</td>\n",
       "      <td>0.856</td>\n",
       "      <td>0.899</td>\n",
       "    </tr>\n",
       "    <tr>\n",
       "      <td>11</td>\n",
       "      <td>XGBClassifier</td>\n",
       "      <td>None</td>\n",
       "      <td>0.869</td>\n",
       "      <td>0.870</td>\n",
       "      <td>0.869</td>\n",
       "      <td>0.853</td>\n",
       "      <td>0.893</td>\n",
       "    </tr>\n",
       "  </tbody>\n",
       "</table>\n",
       "</div>"
      ],
      "text/plain": [
       "                         Model   Imbalance Handling  Accuracy  Precision  \\\n",
       "34      RandomForestClassifier  Random Oversampling     0.882      0.877   \n",
       "33      RandomForestClassifier  Random Oversampling     0.884      0.886   \n",
       "75      RandomForestClassifier                SMOTE     0.874      0.864   \n",
       "94  GradientBoostingClassifier          SMOTE Tomek     0.867      0.862   \n",
       "38  GradientBoostingClassifier  Random Oversampling     0.872      0.866   \n",
       "10  GradientBoostingClassifier                 None     0.878      0.877   \n",
       "80  GradientBoostingClassifier                SMOTE     0.867      0.857   \n",
       "40               XGBClassifier  Random Oversampling     0.857      0.864   \n",
       "82               XGBClassifier                SMOTE     0.859      0.856   \n",
       "11               XGBClassifier                 None     0.869      0.870   \n",
       "\n",
       "    Recall  F1 Score  ROC AUC Score  \n",
       "34   0.882     0.873          0.906  \n",
       "33   0.884     0.868          0.903  \n",
       "75   0.874     0.864          0.900  \n",
       "94   0.867     0.864          0.906  \n",
       "38   0.872     0.863          0.901  \n",
       "10   0.878     0.863          0.900  \n",
       "80   0.867     0.861          0.904  \n",
       "40   0.857     0.860          0.902  \n",
       "82   0.859     0.856          0.899  \n",
       "11   0.869     0.853          0.893  "
      ]
     },
     "execution_count": 39,
     "metadata": {},
     "output_type": "execute_result"
    }
   ],
   "source": [
    "### Check to 10 models ###\n",
    "sorted_df.head(10)"
   ]
  },
  {
   "cell_type": "markdown",
   "metadata": {},
   "source": [
    "As seen in the table, the highest classification methods are the ensemble ones particularly Random Forst, Gradient Boost and XGBoost. Furthermore, given that our minority classes only have over 100 datapoints as opposed to the majority classes which have more than 1,000, oversampling methods such as Random Oversampling, SMOTE and SMOTE Tomek garnered higher scores versus undersampling techniques. "
   ]
  },
  {
   "cell_type": "markdown",
   "metadata": {},
   "source": [
    "## Models and Techniques Analysis"
   ]
  },
  {
   "cell_type": "code",
   "execution_count": 40,
   "metadata": {},
   "outputs": [
    {
     "data": {
      "text/html": [
       "<div>\n",
       "<style scoped>\n",
       "    .dataframe tbody tr th:only-of-type {\n",
       "        vertical-align: middle;\n",
       "    }\n",
       "\n",
       "    .dataframe tbody tr th {\n",
       "        vertical-align: top;\n",
       "    }\n",
       "\n",
       "    .dataframe thead th {\n",
       "        text-align: right;\n",
       "    }\n",
       "</style>\n",
       "<table border=\"1\" class=\"dataframe\">\n",
       "  <thead>\n",
       "    <tr style=\"text-align: right;\">\n",
       "      <th></th>\n",
       "      <th>model</th>\n",
       "      <th>mean</th>\n",
       "    </tr>\n",
       "  </thead>\n",
       "  <tbody>\n",
       "    <tr>\n",
       "      <td>0</td>\n",
       "      <td>AdaBoostClassifier</td>\n",
       "      <td>0.667</td>\n",
       "    </tr>\n",
       "    <tr>\n",
       "      <td>1</td>\n",
       "      <td>DecisionTreeClassifier</td>\n",
       "      <td>0.634</td>\n",
       "    </tr>\n",
       "    <tr>\n",
       "      <td>2</td>\n",
       "      <td>GaussianNB</td>\n",
       "      <td>0.504</td>\n",
       "    </tr>\n",
       "    <tr>\n",
       "      <td>3</td>\n",
       "      <td>GradientBoostingClassifier</td>\n",
       "      <td>0.677</td>\n",
       "    </tr>\n",
       "    <tr>\n",
       "      <td>4</td>\n",
       "      <td>KNeighborsClassifier</td>\n",
       "      <td>0.757</td>\n",
       "    </tr>\n",
       "    <tr>\n",
       "      <td>5</td>\n",
       "      <td>LogisticRegression</td>\n",
       "      <td>0.620</td>\n",
       "    </tr>\n",
       "    <tr>\n",
       "      <td>6</td>\n",
       "      <td>RandomForestClassifier</td>\n",
       "      <td>0.734</td>\n",
       "    </tr>\n",
       "    <tr>\n",
       "      <td>7</td>\n",
       "      <td>XGBClassifier</td>\n",
       "      <td>0.739</td>\n",
       "    </tr>\n",
       "  </tbody>\n",
       "</table>\n",
       "</div>"
      ],
      "text/plain": [
       "                        model  mean\n",
       "0          AdaBoostClassifier 0.667\n",
       "1      DecisionTreeClassifier 0.634\n",
       "2                  GaussianNB 0.504\n",
       "3  GradientBoostingClassifier 0.677\n",
       "4        KNeighborsClassifier 0.757\n",
       "5          LogisticRegression 0.620\n",
       "6      RandomForestClassifier 0.734\n",
       "7               XGBClassifier 0.739"
      ]
     },
     "execution_count": 40,
     "metadata": {},
     "output_type": "execute_result"
    }
   ],
   "source": [
    "models_df = summary_df.groupby('Model', as_index=False).agg({'F1 Score': ['mean']})\n",
    "models_df.columns = models_df.columns.droplevel(0)\n",
    "models_df.columns = ['model', 'mean']\n",
    "models_df"
   ]
  },
  {
   "cell_type": "code",
   "execution_count": 41,
   "metadata": {},
   "outputs": [
    {
     "name": "stderr",
     "output_type": "stream",
     "text": [
      "No handles with labels found to put in legend.\n"
     ]
    },
    {
     "data": {
      "image/png": "[encoded data removed]",
      "text/plain": [
       "<Figure size 720x432 with 1 Axes>"
      ]
     },
     "metadata": {},
     "output_type": "display_data"
    }
   ],
   "source": [
    "plt.style.use('fivethirtyeight')\n",
    "plt.rcParams.update({'font.size': 14})\n",
    "\n",
    "fig, ax = plt.subplots(figsize=(10,6))\n",
    "\n",
    "ax.bar(models_df[\"model\"],models_df[\"mean\"])\n",
    "\n",
    "ax.set_xticklabels(models_df[\"model\"], rotation=80, fontsize=18)\n",
    "\n",
    "ax.set_ylabel(\"Average F1 Score\")\n",
    "ax.set_title('Average F1 Score of each modeling method')\n",
    "ax.legend()\n",
    "\n",
    "plt.show()"
   ]
  },
  {
   "cell_type": "markdown",
   "metadata": {},
   "source": [
    "It is interesting to see that three ensemble methods are in the Top 4 and other one is KNN. This proves that they can be truly powerful in classification problems. Naive Bayes performed the poorest.\n",
    "\n",
    "It is particularly strange that KNN has the highest mean even though none of its models made it to the top 10."
   ]
  },
  {
   "cell_type": "code",
   "execution_count": 42,
   "metadata": {},
   "outputs": [
    {
     "data": {
      "text/html": [
       "<div>\n",
       "<style scoped>\n",
       "    .dataframe tbody tr th:only-of-type {\n",
       "        vertical-align: middle;\n",
       "    }\n",
       "\n",
       "    .dataframe tbody tr th {\n",
       "        vertical-align: top;\n",
       "    }\n",
       "\n",
       "    .dataframe thead th {\n",
       "        text-align: right;\n",
       "    }\n",
       "</style>\n",
       "<table border=\"1\" class=\"dataframe\">\n",
       "  <thead>\n",
       "    <tr style=\"text-align: right;\">\n",
       "      <th></th>\n",
       "      <th>technique</th>\n",
       "      <th>mean</th>\n",
       "    </tr>\n",
       "  </thead>\n",
       "  <tbody>\n",
       "    <tr>\n",
       "      <td>0</td>\n",
       "      <td>Cluster Centroids</td>\n",
       "      <td>0.253</td>\n",
       "    </tr>\n",
       "    <tr>\n",
       "      <td>1</td>\n",
       "      <td>None</td>\n",
       "      <td>0.782</td>\n",
       "    </tr>\n",
       "    <tr>\n",
       "      <td>2</td>\n",
       "      <td>Random Oversampling</td>\n",
       "      <td>0.746</td>\n",
       "    </tr>\n",
       "    <tr>\n",
       "      <td>3</td>\n",
       "      <td>Random Undersampling</td>\n",
       "      <td>0.663</td>\n",
       "    </tr>\n",
       "    <tr>\n",
       "      <td>4</td>\n",
       "      <td>SMOTE</td>\n",
       "      <td>0.775</td>\n",
       "    </tr>\n",
       "    <tr>\n",
       "      <td>5</td>\n",
       "      <td>SMOTE Tomek</td>\n",
       "      <td>0.772</td>\n",
       "    </tr>\n",
       "    <tr>\n",
       "      <td>6</td>\n",
       "      <td>Tomek Links</td>\n",
       "      <td>0.780</td>\n",
       "    </tr>\n",
       "  </tbody>\n",
       "</table>\n",
       "</div>"
      ],
      "text/plain": [
       "              technique  mean\n",
       "0     Cluster Centroids 0.253\n",
       "1                  None 0.782\n",
       "2   Random Oversampling 0.746\n",
       "3  Random Undersampling 0.663\n",
       "4                 SMOTE 0.775\n",
       "5           SMOTE Tomek 0.772\n",
       "6           Tomek Links 0.780"
      ]
     },
     "execution_count": 42,
     "metadata": {},
     "output_type": "execute_result"
    }
   ],
   "source": [
    "resample_df = summary_df.groupby('Imbalance Handling', as_index=False).agg({'F1 Score': ['mean']})\n",
    "resample_df.columns = resample_df.columns.droplevel(0)\n",
    "resample_df.columns = ['technique', 'mean']\n",
    "resample_df"
   ]
  },
  {
   "cell_type": "code",
   "execution_count": 43,
   "metadata": {},
   "outputs": [
    {
     "name": "stderr",
     "output_type": "stream",
     "text": [
      "No handles with labels found to put in legend.\n"
     ]
    },
    {
     "data": {
      "image/png": "[encoded data removed]",
      "text/plain": [
       "<Figure size 720x432 with 1 Axes>"
      ]
     },
     "metadata": {},
     "output_type": "display_data"
    }
   ],
   "source": [
    "plt.style.use('fivethirtyeight')\n",
    "plt.rcParams.update({'font.size': 14})\n",
    "\n",
    "fig, ax = plt.subplots(figsize=(10,6))\n",
    "\n",
    "ax.bar(resample_df[\"technique\"],resample_df[\"mean\"])\n",
    "\n",
    "ax.set_xticklabels(resample_df[\"technique\"], rotation=80, fontsize=18)\n",
    "\n",
    "ax.set_ylabel(\"Average F1 Score\")\n",
    "ax.set_title('Average F1 Score of each resampling technique')\n",
    "ax.legend()\n",
    "\n",
    "plt.show()"
   ]
  },
  {
   "cell_type": "markdown",
   "metadata": {},
   "source": [
    "The result here is surprising that no resampling managed to score clost to the other techniques even though it was apparent that there was a significant class imbalance. Tomek Links while an undersampling technique also managed to score high. Cluster Centroids managed to do very poorly. Could this mean that is is hard to cluster our datapoints?"
   ]
  },
  {
   "cell_type": "markdown",
   "metadata": {},
   "source": [
    "## Hypertuning and Final Scores"
   ]
  },
  {
   "cell_type": "markdown",
   "metadata": {},
   "source": [
    "This section is where we perform hyperparameter tuning for the top 5 models to finally assess which one is the best in predicting our multi-class problem. Here are our guidelines / process when hyper tuning:\n",
    "\n",
    "**Random Forest**\n",
    "- max depth: the maximum option is set to 10 to avoid overfitting\n",
    "- minimum sample split: set to the absolute minimum of 2, to ensure that the model still splits if necessary\n",
    "- minimum sample leaf: set to the absolute minimum of 1, same reason as above\n",
    "- n estimators: 200 is the maximum option because by choosing more number of trees, the time complexity of the Random Forest model also increases and the results can only go as high\n",
    "- max features set to auto so the gridsearch can determine the best one automatically\n",
    "\n",
    "**Gradient Boost**\n",
    "- loss: set to deviance because exponential will not work on a multi-class problem\n",
    "- learning rate: lower values are generally preferred as they make the model robust to the specific characteristics of tree and thus allowing it to generalize well but can be computationally expensive. Generally the default value of 0.1 works but somewhere between 0.05 to 0.2 should work for different problems as per our source.\n",
    "- minimum sample split: set to the absolute minimum of 2, to ensure that the model still splits if necessary\n",
    "- minimum sample leaf: set to the absolute minimum of 1, same reason as above\n",
    "- max depth: the maximum option is set to 10 to avoid overfitting\n",
    "- max features: one option is set to auto so the gridsearch can determine the best one automatically\n",
    "- subsample: .8 as the commonly used start value\n",
    "- n estimators: 200 is the maximum option because by choosing more number of trees, the time complexity of the Random Forest model also increases and the results can only go as high\n"
   ]
  },
  {
   "cell_type": "markdown",
   "metadata": {},
   "source": [
    "### Model 1: Random Forest + Random Oversampling"
   ]
  },
  {
   "cell_type": "code",
   "execution_count": 44,
   "metadata": {},
   "outputs": [],
   "source": [
    "balanced = random_oversampling(split['X_train'], split['y_train'])\n",
    "balanced_rf = random_oversampling(split_rf['X_train'], split_rf['y_train'])"
   ]
  },
  {
   "cell_type": "code",
   "execution_count": 45,
   "metadata": {
    "scrolled": true
   },
   "outputs": [
    {
     "name": "stdout",
     "output_type": "stream",
     "text": [
      "{'bootstrap': True, 'ccp_alpha': 0.0, 'class_weight': None, 'criterion': 'gini', 'max_depth': None, 'max_features': 'auto', 'max_leaf_nodes': None, 'max_samples': None, 'min_impurity_decrease': 0.0, 'min_impurity_split': None, 'min_samples_leaf': 1, 'min_samples_split': 2, 'min_weight_fraction_leaf': 0.0, 'n_estimators': 100, 'n_jobs': None, 'oob_score': False, 'random_state': 42, 'verbose': 0, 'warm_start': False}\n"
     ]
    }
   ],
   "source": [
    "random_forest_model = random_forest(balanced_rf['X_train'], balanced_rf['y_train'], None, True)"
   ]
  },
  {
   "cell_type": "code",
   "execution_count": 46,
   "metadata": {},
   "outputs": [
    {
     "name": "stdout",
     "output_type": "stream",
     "text": [
      "Confusion Matrix, without normalization\n",
      "[[187  13   0   1   0]\n",
      " [  4 237   0   0   1]\n",
      " [  0   3  28   0   0]\n",
      " [ 16   7   0  11   0]\n",
      " [ 14   2   1   0   8]]\n"
     ]
    },
    {
     "data": {
      "image/png": "[encoded data removed]",
      "text/plain": [
       "<Figure size 432x288 with 2 Axes>"
      ]
     },
     "metadata": {},
     "output_type": "display_data"
    }
   ],
   "source": [
    "score_model(random_forest_model, \"Random Oversampling\", balanced_rf['X_train'], balanced_rf['y_train'], split_rf['X_test'], split_rf['y_test'])"
   ]
  },
  {
   "cell_type": "code",
   "execution_count": 47,
   "metadata": {},
   "outputs": [
    {
     "data": {
      "text/html": [
       "<div>\n",
       "<style scoped>\n",
       "    .dataframe tbody tr th:only-of-type {\n",
       "        vertical-align: middle;\n",
       "    }\n",
       "\n",
       "    .dataframe tbody tr th {\n",
       "        vertical-align: top;\n",
       "    }\n",
       "\n",
       "    .dataframe thead th {\n",
       "        text-align: right;\n",
       "    }\n",
       "</style>\n",
       "<table border=\"1\" class=\"dataframe\">\n",
       "  <thead>\n",
       "    <tr style=\"text-align: right;\">\n",
       "      <th></th>\n",
       "      <th>Model</th>\n",
       "      <th>Imbalance Handling</th>\n",
       "      <th>Accuracy</th>\n",
       "      <th>Precision</th>\n",
       "      <th>Recall</th>\n",
       "      <th>F1 Score</th>\n",
       "      <th>ROC AUC Score</th>\n",
       "    </tr>\n",
       "  </thead>\n",
       "  <tbody>\n",
       "    <tr>\n",
       "      <td>0</td>\n",
       "      <td>RandomForestClassifier</td>\n",
       "      <td>Random Oversampling</td>\n",
       "      <td>0.884</td>\n",
       "      <td>0.886</td>\n",
       "      <td>0.884</td>\n",
       "      <td>0.868</td>\n",
       "      <td>0.903</td>\n",
       "    </tr>\n",
       "  </tbody>\n",
       "</table>\n",
       "</div>"
      ],
      "text/plain": [
       "                    Model   Imbalance Handling  Accuracy  Precision  Recall  \\\n",
       "0  RandomForestClassifier  Random Oversampling     0.884      0.886   0.884   \n",
       "\n",
       "   F1 Score  ROC AUC Score  \n",
       "0     0.868          0.903  "
      ]
     },
     "execution_count": 47,
     "metadata": {},
     "output_type": "execute_result"
    }
   ],
   "source": [
    "results_df"
   ]
  },
  {
   "cell_type": "code",
   "execution_count": 48,
   "metadata": {},
   "outputs": [
    {
     "name": "stdout",
     "output_type": "stream",
     "text": [
      "{'n_estimators': [10, 50, 100, 150, 200], 'max_features': ['auto', 'sqrt', 'log2'], 'max_depth': [2, 5, 7, 10], 'min_samples_leaf': [1], 'min_samples_split': [2], 'bootstrap': [True, False]}\n"
     ]
    }
   ],
   "source": [
    "n_estimators = [10, 50, 100, 150, 200]\n",
    "max_features = ['auto', 'sqrt','log2']\n",
    "max_depth =[2,5,7,10]\n",
    "min_samples_leaf=[1]\n",
    "min_samples_split=[2]\n",
    "bootstrap = [True, False]\n",
    "\n",
    "# Create the random grid\n",
    "param_grid = {  'n_estimators': n_estimators,\n",
    "                'max_features': max_features,\n",
    "                'max_depth': max_depth,\n",
    "                'min_samples_leaf': min_samples_leaf,\n",
    "                'min_samples_split': min_samples_split,\n",
    "                'bootstrap': bootstrap}\n",
    "print(param_grid)"
   ]
  },
  {
   "cell_type": "code",
   "execution_count": 49,
   "metadata": {},
   "outputs": [
    {
     "name": "stdout",
     "output_type": "stream",
     "text": [
      "{'bootstrap': True, 'max_depth': 10, 'max_features': 'log2', 'min_samples_leaf': 1, 'min_samples_split': 2, 'n_estimators': 200}\n"
     ]
    }
   ],
   "source": [
    "params = grid_search_cv(random_forest_model, features, target, param_grid, 4, 5)\n",
    "print (params)"
   ]
  },
  {
   "cell_type": "code",
   "execution_count": 50,
   "metadata": {},
   "outputs": [],
   "source": [
    "random_forest_model = random_forest(balanced_rf['X_train'], balanced_rf['y_train'], params, False)"
   ]
  },
  {
   "cell_type": "code",
   "execution_count": 51,
   "metadata": {},
   "outputs": [
    {
     "name": "stdout",
     "output_type": "stream",
     "text": [
      "Confusion Matrix, without normalization\n",
      "[[183  11   0   7   0]\n",
      " [  5 233   2   1   1]\n",
      " [  0   1  30   0   0]\n",
      " [ 15   6   0  13   0]\n",
      " [ 10   3   0   1  11]]\n"
     ]
    },
    {
     "data": {
      "image/png": "[encoded data removed]",
      "text/plain": [
       "<Figure size 432x288 with 2 Axes>"
      ]
     },
     "metadata": {},
     "output_type": "display_data"
    }
   ],
   "source": [
    "score_model(random_forest_model, \"Random Oversampling\", balanced_rf['X_train'], balanced_rf['y_train'], split_rf['X_test'], split_rf['y_test'])"
   ]
  },
  {
   "cell_type": "code",
   "execution_count": 52,
   "metadata": {
    "scrolled": false
   },
   "outputs": [
    {
     "data": {
      "text/html": [
       "<div>\n",
       "<style scoped>\n",
       "    .dataframe tbody tr th:only-of-type {\n",
       "        vertical-align: middle;\n",
       "    }\n",
       "\n",
       "    .dataframe tbody tr th {\n",
       "        vertical-align: top;\n",
       "    }\n",
       "\n",
       "    .dataframe thead th {\n",
       "        text-align: right;\n",
       "    }\n",
       "</style>\n",
       "<table border=\"1\" class=\"dataframe\">\n",
       "  <thead>\n",
       "    <tr style=\"text-align: right;\">\n",
       "      <th></th>\n",
       "      <th>Model</th>\n",
       "      <th>Imbalance Handling</th>\n",
       "      <th>Accuracy</th>\n",
       "      <th>Precision</th>\n",
       "      <th>Recall</th>\n",
       "      <th>F1 Score</th>\n",
       "      <th>ROC AUC Score</th>\n",
       "    </tr>\n",
       "  </thead>\n",
       "  <tbody>\n",
       "    <tr>\n",
       "      <td>0</td>\n",
       "      <td>RandomForestClassifier</td>\n",
       "      <td>Random Oversampling</td>\n",
       "      <td>0.884</td>\n",
       "      <td>0.886</td>\n",
       "      <td>0.884</td>\n",
       "      <td>0.868</td>\n",
       "      <td>0.903</td>\n",
       "    </tr>\n",
       "    <tr>\n",
       "      <td>1</td>\n",
       "      <td>RandomForestClassifier</td>\n",
       "      <td>Random Oversampling</td>\n",
       "      <td>0.882</td>\n",
       "      <td>0.876</td>\n",
       "      <td>0.882</td>\n",
       "      <td>0.873</td>\n",
       "      <td>0.907</td>\n",
       "    </tr>\n",
       "  </tbody>\n",
       "</table>\n",
       "</div>"
      ],
      "text/plain": [
       "                    Model   Imbalance Handling  Accuracy  Precision  Recall  \\\n",
       "0  RandomForestClassifier  Random Oversampling     0.884      0.886   0.884   \n",
       "1  RandomForestClassifier  Random Oversampling     0.882      0.876   0.882   \n",
       "\n",
       "   F1 Score  ROC AUC Score  \n",
       "0     0.868          0.903  \n",
       "1     0.873          0.907  "
      ]
     },
     "execution_count": 52,
     "metadata": {},
     "output_type": "execute_result"
    }
   ],
   "source": [
    "results_df"
   ]
  },
  {
   "cell_type": "code",
   "execution_count": 53,
   "metadata": {},
   "outputs": [
    {
     "data": {
      "image/png": "[encoded data removed]",
      "text/plain": [
       "<Figure size 432x288 with 1 Axes>"
      ]
     },
     "metadata": {},
     "output_type": "display_data"
    }
   ],
   "source": [
    "feature_importance(random_forest_model)"
   ]
  },
  {
   "cell_type": "markdown",
   "metadata": {},
   "source": [
    "### Model 2: Random Forest + SMOTE"
   ]
  },
  {
   "cell_type": "code",
   "execution_count": 54,
   "metadata": {},
   "outputs": [],
   "source": [
    "balanced = smote(split['X_train'], split['y_train'])\n",
    "balanced_rf = smote(split_rf['X_train'], split_rf['y_train'])"
   ]
  },
  {
   "cell_type": "code",
   "execution_count": 55,
   "metadata": {
    "scrolled": true
   },
   "outputs": [
    {
     "name": "stdout",
     "output_type": "stream",
     "text": [
      "{'bootstrap': True, 'ccp_alpha': 0.0, 'class_weight': None, 'criterion': 'gini', 'max_depth': None, 'max_features': 'auto', 'max_leaf_nodes': None, 'max_samples': None, 'min_impurity_decrease': 0.0, 'min_impurity_split': None, 'min_samples_leaf': 1, 'min_samples_split': 2, 'min_weight_fraction_leaf': 0.0, 'n_estimators': 100, 'n_jobs': None, 'oob_score': False, 'random_state': 42, 'verbose': 0, 'warm_start': False}\n"
     ]
    }
   ],
   "source": [
    "random_forest_model = random_forest(balanced_rf['X_train'], balanced_rf['y_train'], None, True)"
   ]
  },
  {
   "cell_type": "code",
   "execution_count": 56,
   "metadata": {},
   "outputs": [
    {
     "name": "stdout",
     "output_type": "stream",
     "text": [
      "Confusion Matrix, without normalization\n",
      "[[180  11   0   8   2]\n",
      " [  5 235   0   1   1]\n",
      " [  0   2  29   0   0]\n",
      " [ 15   8   0  11   0]\n",
      " [ 12   2   0   0  11]]\n"
     ]
    },
    {
     "data": {
      "image/png": "[encoded data removed]",
      "text/plain": [
       "<Figure size 432x288 with 2 Axes>"
      ]
     },
     "metadata": {},
     "output_type": "display_data"
    }
   ],
   "source": [
    "score_model(random_forest_model, \"SMOTE\", balanced_rf['X_train'], balanced_rf['y_train'], split_rf['X_test'], split_rf['y_test'])"
   ]
  },
  {
   "cell_type": "code",
   "execution_count": 57,
   "metadata": {},
   "outputs": [
    {
     "data": {
      "text/html": [
       "<div>\n",
       "<style scoped>\n",
       "    .dataframe tbody tr th:only-of-type {\n",
       "        vertical-align: middle;\n",
       "    }\n",
       "\n",
       "    .dataframe tbody tr th {\n",
       "        vertical-align: top;\n",
       "    }\n",
       "\n",
       "    .dataframe thead th {\n",
       "        text-align: right;\n",
       "    }\n",
       "</style>\n",
       "<table border=\"1\" class=\"dataframe\">\n",
       "  <thead>\n",
       "    <tr style=\"text-align: right;\">\n",
       "      <th></th>\n",
       "      <th>Model</th>\n",
       "      <th>Imbalance Handling</th>\n",
       "      <th>Accuracy</th>\n",
       "      <th>Precision</th>\n",
       "      <th>Recall</th>\n",
       "      <th>F1 Score</th>\n",
       "      <th>ROC AUC Score</th>\n",
       "    </tr>\n",
       "  </thead>\n",
       "  <tbody>\n",
       "    <tr>\n",
       "      <td>0</td>\n",
       "      <td>RandomForestClassifier</td>\n",
       "      <td>Random Oversampling</td>\n",
       "      <td>0.884</td>\n",
       "      <td>0.886</td>\n",
       "      <td>0.884</td>\n",
       "      <td>0.868</td>\n",
       "      <td>0.903</td>\n",
       "    </tr>\n",
       "    <tr>\n",
       "      <td>1</td>\n",
       "      <td>RandomForestClassifier</td>\n",
       "      <td>Random Oversampling</td>\n",
       "      <td>0.882</td>\n",
       "      <td>0.876</td>\n",
       "      <td>0.882</td>\n",
       "      <td>0.873</td>\n",
       "      <td>0.907</td>\n",
       "    </tr>\n",
       "    <tr>\n",
       "      <td>2</td>\n",
       "      <td>RandomForestClassifier</td>\n",
       "      <td>SMOTE</td>\n",
       "      <td>0.874</td>\n",
       "      <td>0.864</td>\n",
       "      <td>0.874</td>\n",
       "      <td>0.864</td>\n",
       "      <td>0.900</td>\n",
       "    </tr>\n",
       "  </tbody>\n",
       "</table>\n",
       "</div>"
      ],
      "text/plain": [
       "                    Model   Imbalance Handling  Accuracy  Precision  Recall  \\\n",
       "0  RandomForestClassifier  Random Oversampling     0.884      0.886   0.884   \n",
       "1  RandomForestClassifier  Random Oversampling     0.882      0.876   0.882   \n",
       "2  RandomForestClassifier                SMOTE     0.874      0.864   0.874   \n",
       "\n",
       "   F1 Score  ROC AUC Score  \n",
       "0     0.868          0.903  \n",
       "1     0.873          0.907  \n",
       "2     0.864          0.900  "
      ]
     },
     "execution_count": 57,
     "metadata": {},
     "output_type": "execute_result"
    }
   ],
   "source": [
    "results_df"
   ]
  },
  {
   "cell_type": "code",
   "execution_count": 58,
   "metadata": {},
   "outputs": [
    {
     "name": "stdout",
     "output_type": "stream",
     "text": [
      "{'n_estimators': [10, 50, 100, 150, 200], 'max_features': ['auto', 'sqrt', 'log2'], 'max_depth': [2, 5, 7, 10], 'min_samples_leaf': [1], 'min_samples_split': [2], 'bootstrap': [True, False]}\n"
     ]
    }
   ],
   "source": [
    "n_estimators = [10, 50, 100, 150, 200]\n",
    "max_features = ['auto', 'sqrt','log2']\n",
    "max_depth =[2,5,7,10]\n",
    "min_samples_leaf=[1]\n",
    "min_samples_split=[2]\n",
    "bootstrap = [True, False]\n",
    "\n",
    "# Create the random grid\n",
    "param_grid = {  'n_estimators': n_estimators,\n",
    "                'max_features': max_features,\n",
    "                'max_depth': max_depth,\n",
    "                'min_samples_leaf': min_samples_leaf,\n",
    "                'min_samples_split': min_samples_split,\n",
    "                'bootstrap': bootstrap}\n",
    "print(param_grid)"
   ]
  },
  {
   "cell_type": "code",
   "execution_count": 59,
   "metadata": {},
   "outputs": [
    {
     "name": "stdout",
     "output_type": "stream",
     "text": [
      "{'bootstrap': True, 'max_depth': 10, 'max_features': 'log2', 'min_samples_leaf': 1, 'min_samples_split': 2, 'n_estimators': 200}\n"
     ]
    }
   ],
   "source": [
    "params = grid_search_cv(random_forest_model, features, target, param_grid, 4, 5)\n",
    "print (params)"
   ]
  },
  {
   "cell_type": "code",
   "execution_count": 60,
   "metadata": {},
   "outputs": [],
   "source": [
    "random_forest_model = random_forest(balanced_rf['X_train'], balanced_rf['y_train'], params, False)"
   ]
  },
  {
   "cell_type": "code",
   "execution_count": 61,
   "metadata": {},
   "outputs": [
    {
     "name": "stdout",
     "output_type": "stream",
     "text": [
      "Confusion Matrix, without normalization\n",
      "[[172  12   0  13   4]\n",
      " [  4 233   3   1   1]\n",
      " [  0   2  29   0   0]\n",
      " [ 15   8   0  11   0]\n",
      " [ 12   3   0   0  10]]\n"
     ]
    },
    {
     "data": {
      "image/png": "[encoded data removed]",
      "text/plain": [
       "<Figure size 432x288 with 2 Axes>"
      ]
     },
     "metadata": {},
     "output_type": "display_data"
    }
   ],
   "source": [
    "score_model(random_forest_model, \"SMOTE\", balanced_rf['X_train'], balanced_rf['y_train'], split_rf['X_test'], split_rf['y_test'])"
   ]
  },
  {
   "cell_type": "code",
   "execution_count": 62,
   "metadata": {
    "scrolled": false
   },
   "outputs": [
    {
     "data": {
      "text/html": [
       "<div>\n",
       "<style scoped>\n",
       "    .dataframe tbody tr th:only-of-type {\n",
       "        vertical-align: middle;\n",
       "    }\n",
       "\n",
       "    .dataframe tbody tr th {\n",
       "        vertical-align: top;\n",
       "    }\n",
       "\n",
       "    .dataframe thead th {\n",
       "        text-align: right;\n",
       "    }\n",
       "</style>\n",
       "<table border=\"1\" class=\"dataframe\">\n",
       "  <thead>\n",
       "    <tr style=\"text-align: right;\">\n",
       "      <th></th>\n",
       "      <th>Model</th>\n",
       "      <th>Imbalance Handling</th>\n",
       "      <th>Accuracy</th>\n",
       "      <th>Precision</th>\n",
       "      <th>Recall</th>\n",
       "      <th>F1 Score</th>\n",
       "      <th>ROC AUC Score</th>\n",
       "    </tr>\n",
       "  </thead>\n",
       "  <tbody>\n",
       "    <tr>\n",
       "      <td>0</td>\n",
       "      <td>RandomForestClassifier</td>\n",
       "      <td>Random Oversampling</td>\n",
       "      <td>0.884</td>\n",
       "      <td>0.886</td>\n",
       "      <td>0.884</td>\n",
       "      <td>0.868</td>\n",
       "      <td>0.903</td>\n",
       "    </tr>\n",
       "    <tr>\n",
       "      <td>1</td>\n",
       "      <td>RandomForestClassifier</td>\n",
       "      <td>Random Oversampling</td>\n",
       "      <td>0.882</td>\n",
       "      <td>0.876</td>\n",
       "      <td>0.882</td>\n",
       "      <td>0.873</td>\n",
       "      <td>0.907</td>\n",
       "    </tr>\n",
       "    <tr>\n",
       "      <td>2</td>\n",
       "      <td>RandomForestClassifier</td>\n",
       "      <td>SMOTE</td>\n",
       "      <td>0.874</td>\n",
       "      <td>0.864</td>\n",
       "      <td>0.874</td>\n",
       "      <td>0.864</td>\n",
       "      <td>0.900</td>\n",
       "    </tr>\n",
       "    <tr>\n",
       "      <td>3</td>\n",
       "      <td>RandomForestClassifier</td>\n",
       "      <td>SMOTE</td>\n",
       "      <td>0.854</td>\n",
       "      <td>0.842</td>\n",
       "      <td>0.854</td>\n",
       "      <td>0.845</td>\n",
       "      <td>0.888</td>\n",
       "    </tr>\n",
       "  </tbody>\n",
       "</table>\n",
       "</div>"
      ],
      "text/plain": [
       "                    Model   Imbalance Handling  Accuracy  Precision  Recall  \\\n",
       "0  RandomForestClassifier  Random Oversampling     0.884      0.886   0.884   \n",
       "1  RandomForestClassifier  Random Oversampling     0.882      0.876   0.882   \n",
       "2  RandomForestClassifier                SMOTE     0.874      0.864   0.874   \n",
       "3  RandomForestClassifier                SMOTE     0.854      0.842   0.854   \n",
       "\n",
       "   F1 Score  ROC AUC Score  \n",
       "0     0.868          0.903  \n",
       "1     0.873          0.907  \n",
       "2     0.864          0.900  \n",
       "3     0.845          0.888  "
      ]
     },
     "execution_count": 62,
     "metadata": {},
     "output_type": "execute_result"
    }
   ],
   "source": [
    "results_df"
   ]
  },
  {
   "cell_type": "code",
   "execution_count": 63,
   "metadata": {},
   "outputs": [
    {
     "data": {
      "image/png": "[encoded data removed]",
      "text/plain": [
       "<Figure size 432x288 with 1 Axes>"
      ]
     },
     "metadata": {},
     "output_type": "display_data"
    }
   ],
   "source": [
    "feature_importance(random_forest_model)"
   ]
  },
  {
   "cell_type": "markdown",
   "metadata": {},
   "source": [
    "### Model 3: Gradient Boost + SMOTETomek"
   ]
  },
  {
   "cell_type": "code",
   "execution_count": 64,
   "metadata": {},
   "outputs": [],
   "source": [
    "balanced = smote_tomek(split['X_train'], split['y_train'])\n",
    "balanced_rf = smote_tomek(split_rf['X_train'], split_rf['y_train'])"
   ]
  },
  {
   "cell_type": "code",
   "execution_count": 65,
   "metadata": {
    "scrolled": true
   },
   "outputs": [],
   "source": [
    "gradient_boost_model = gradientboost(balanced['X_train'], balanced['y_train'], None, True)"
   ]
  },
  {
   "cell_type": "code",
   "execution_count": 66,
   "metadata": {},
   "outputs": [
    {
     "name": "stdout",
     "output_type": "stream",
     "text": [
      "Confusion Matrix, without normalization\n",
      "[[156   0   0  23  22]\n",
      " [ 15 112   0  90  25]\n",
      " [  1   0  29   0   1]\n",
      " [ 11   0   0  16   7]\n",
      " [ 10   0   0   1  14]]\n"
     ]
    },
    {
     "data": {
      "image/png": "[encoded data removed]",
      "text/plain": [
       "<Figure size 432x288 with 2 Axes>"
      ]
     },
     "metadata": {},
     "output_type": "display_data"
    }
   ],
   "source": [
    "score_model(gradient_boost_model, \"SMOTE Tomek\", balanced['X_train'], balanced['y_train'], split['X_test'], split['y_test'])"
   ]
  },
  {
   "cell_type": "code",
   "execution_count": 67,
   "metadata": {
    "scrolled": true
   },
   "outputs": [
    {
     "data": {
      "text/html": [
       "<div>\n",
       "<style scoped>\n",
       "    .dataframe tbody tr th:only-of-type {\n",
       "        vertical-align: middle;\n",
       "    }\n",
       "\n",
       "    .dataframe tbody tr th {\n",
       "        vertical-align: top;\n",
       "    }\n",
       "\n",
       "    .dataframe thead th {\n",
       "        text-align: right;\n",
       "    }\n",
       "</style>\n",
       "<table border=\"1\" class=\"dataframe\">\n",
       "  <thead>\n",
       "    <tr style=\"text-align: right;\">\n",
       "      <th></th>\n",
       "      <th>Model</th>\n",
       "      <th>Imbalance Handling</th>\n",
       "      <th>Accuracy</th>\n",
       "      <th>Precision</th>\n",
       "      <th>Recall</th>\n",
       "      <th>F1 Score</th>\n",
       "      <th>ROC AUC Score</th>\n",
       "    </tr>\n",
       "  </thead>\n",
       "  <tbody>\n",
       "    <tr>\n",
       "      <td>0</td>\n",
       "      <td>RandomForestClassifier</td>\n",
       "      <td>Random Oversampling</td>\n",
       "      <td>0.884</td>\n",
       "      <td>0.886</td>\n",
       "      <td>0.884</td>\n",
       "      <td>0.868</td>\n",
       "      <td>0.903</td>\n",
       "    </tr>\n",
       "    <tr>\n",
       "      <td>1</td>\n",
       "      <td>RandomForestClassifier</td>\n",
       "      <td>Random Oversampling</td>\n",
       "      <td>0.882</td>\n",
       "      <td>0.876</td>\n",
       "      <td>0.882</td>\n",
       "      <td>0.873</td>\n",
       "      <td>0.907</td>\n",
       "    </tr>\n",
       "    <tr>\n",
       "      <td>2</td>\n",
       "      <td>RandomForestClassifier</td>\n",
       "      <td>SMOTE</td>\n",
       "      <td>0.874</td>\n",
       "      <td>0.864</td>\n",
       "      <td>0.874</td>\n",
       "      <td>0.864</td>\n",
       "      <td>0.900</td>\n",
       "    </tr>\n",
       "    <tr>\n",
       "      <td>3</td>\n",
       "      <td>RandomForestClassifier</td>\n",
       "      <td>SMOTE</td>\n",
       "      <td>0.854</td>\n",
       "      <td>0.842</td>\n",
       "      <td>0.854</td>\n",
       "      <td>0.845</td>\n",
       "      <td>0.888</td>\n",
       "    </tr>\n",
       "    <tr>\n",
       "      <td>4</td>\n",
       "      <td>GradientBoostingClassifier</td>\n",
       "      <td>SMOTE Tomek</td>\n",
       "      <td>0.614</td>\n",
       "      <td>0.834</td>\n",
       "      <td>0.614</td>\n",
       "      <td>0.669</td>\n",
       "      <td>0.776</td>\n",
       "    </tr>\n",
       "  </tbody>\n",
       "</table>\n",
       "</div>"
      ],
      "text/plain": [
       "                        Model   Imbalance Handling  Accuracy  Precision  \\\n",
       "0      RandomForestClassifier  Random Oversampling     0.884      0.886   \n",
       "1      RandomForestClassifier  Random Oversampling     0.882      0.876   \n",
       "2      RandomForestClassifier                SMOTE     0.874      0.864   \n",
       "3      RandomForestClassifier                SMOTE     0.854      0.842   \n",
       "4  GradientBoostingClassifier          SMOTE Tomek     0.614      0.834   \n",
       "\n",
       "   Recall  F1 Score  ROC AUC Score  \n",
       "0   0.884     0.868          0.903  \n",
       "1   0.882     0.873          0.907  \n",
       "2   0.874     0.864          0.900  \n",
       "3   0.854     0.845          0.888  \n",
       "4   0.614     0.669          0.776  "
      ]
     },
     "execution_count": 67,
     "metadata": {},
     "output_type": "execute_result"
    }
   ],
   "source": [
    "results_df"
   ]
  },
  {
   "cell_type": "code",
   "execution_count": 68,
   "metadata": {},
   "outputs": [],
   "source": [
    "param_grid = {\n",
    "    \"loss\":[\"deviance\"],\n",
    "    \"learning_rate\": [0.01, 0.1, 0.2],\n",
    "    \"min_samples_split\": [2],\n",
    "    \"min_samples_leaf\": [1],\n",
    "    \"max_depth\":[3,5,10],\n",
    "    \"max_features\":[\"log2\",\"sqrt\"],\n",
    "    \"criterion\": [\"friedman_mse\"],\n",
    "    \"subsample\":[1.0],\n",
    "    \"n_estimators\":[50, 100, 200]\n",
    "    }"
   ]
  },
  {
   "cell_type": "code",
   "execution_count": 69,
   "metadata": {},
   "outputs": [
    {
     "name": "stdout",
     "output_type": "stream",
     "text": [
      "{'criterion': 'friedman_mse', 'learning_rate': 0.1, 'loss': 'deviance', 'max_depth': 3, 'max_features': 'sqrt', 'min_samples_leaf': 1, 'min_samples_split': 2, 'n_estimators': 50, 'subsample': 1.0}\n"
     ]
    }
   ],
   "source": [
    "params = grid_search_cv(gradient_boost_model, features, target, param_grid, 4, 5)\n",
    "print (params)"
   ]
  },
  {
   "cell_type": "code",
   "execution_count": 70,
   "metadata": {},
   "outputs": [],
   "source": [
    "gradient_boost_model = gradientboost(balanced['X_train'], balanced['y_train'], params, False)"
   ]
  },
  {
   "cell_type": "code",
   "execution_count": 71,
   "metadata": {},
   "outputs": [
    {
     "name": "stdout",
     "output_type": "stream",
     "text": [
      "Confusion Matrix, without normalization\n",
      "[[173   3   3  13   9]\n",
      " [ 12 224   3   3   0]\n",
      " [  1   1  29   0   0]\n",
      " [ 13   5   0  16   0]\n",
      " [ 12   1   0   1  11]]\n"
     ]
    },
    {
     "data": {
      "image/png": "[encoded data removed]",
      "text/plain": [
       "<Figure size 432x288 with 2 Axes>"
      ]
     },
     "metadata": {},
     "output_type": "display_data"
    }
   ],
   "source": [
    "score_model(gradient_boost_model, \"SMOTE Tomek\", balanced['X_train'], balanced['y_train'], split['X_test'], split['y_test'])"
   ]
  },
  {
   "cell_type": "code",
   "execution_count": 72,
   "metadata": {
    "scrolled": false
   },
   "outputs": [
    {
     "data": {
      "text/html": [
       "<div>\n",
       "<style scoped>\n",
       "    .dataframe tbody tr th:only-of-type {\n",
       "        vertical-align: middle;\n",
       "    }\n",
       "\n",
       "    .dataframe tbody tr th {\n",
       "        vertical-align: top;\n",
       "    }\n",
       "\n",
       "    .dataframe thead th {\n",
       "        text-align: right;\n",
       "    }\n",
       "</style>\n",
       "<table border=\"1\" class=\"dataframe\">\n",
       "  <thead>\n",
       "    <tr style=\"text-align: right;\">\n",
       "      <th></th>\n",
       "      <th>Model</th>\n",
       "      <th>Imbalance Handling</th>\n",
       "      <th>Accuracy</th>\n",
       "      <th>Precision</th>\n",
       "      <th>Recall</th>\n",
       "      <th>F1 Score</th>\n",
       "      <th>ROC AUC Score</th>\n",
       "    </tr>\n",
       "  </thead>\n",
       "  <tbody>\n",
       "    <tr>\n",
       "      <td>0</td>\n",
       "      <td>RandomForestClassifier</td>\n",
       "      <td>Random Oversampling</td>\n",
       "      <td>0.884</td>\n",
       "      <td>0.886</td>\n",
       "      <td>0.884</td>\n",
       "      <td>0.868</td>\n",
       "      <td>0.903</td>\n",
       "    </tr>\n",
       "    <tr>\n",
       "      <td>1</td>\n",
       "      <td>RandomForestClassifier</td>\n",
       "      <td>Random Oversampling</td>\n",
       "      <td>0.882</td>\n",
       "      <td>0.876</td>\n",
       "      <td>0.882</td>\n",
       "      <td>0.873</td>\n",
       "      <td>0.907</td>\n",
       "    </tr>\n",
       "    <tr>\n",
       "      <td>2</td>\n",
       "      <td>RandomForestClassifier</td>\n",
       "      <td>SMOTE</td>\n",
       "      <td>0.874</td>\n",
       "      <td>0.864</td>\n",
       "      <td>0.874</td>\n",
       "      <td>0.864</td>\n",
       "      <td>0.900</td>\n",
       "    </tr>\n",
       "    <tr>\n",
       "      <td>3</td>\n",
       "      <td>RandomForestClassifier</td>\n",
       "      <td>SMOTE</td>\n",
       "      <td>0.854</td>\n",
       "      <td>0.842</td>\n",
       "      <td>0.854</td>\n",
       "      <td>0.845</td>\n",
       "      <td>0.888</td>\n",
       "    </tr>\n",
       "    <tr>\n",
       "      <td>4</td>\n",
       "      <td>GradientBoostingClassifier</td>\n",
       "      <td>SMOTE Tomek</td>\n",
       "      <td>0.614</td>\n",
       "      <td>0.834</td>\n",
       "      <td>0.614</td>\n",
       "      <td>0.669</td>\n",
       "      <td>0.776</td>\n",
       "    </tr>\n",
       "    <tr>\n",
       "      <td>5</td>\n",
       "      <td>GradientBoostingClassifier</td>\n",
       "      <td>SMOTE Tomek</td>\n",
       "      <td>0.850</td>\n",
       "      <td>0.849</td>\n",
       "      <td>0.850</td>\n",
       "      <td>0.849</td>\n",
       "      <td>0.894</td>\n",
       "    </tr>\n",
       "  </tbody>\n",
       "</table>\n",
       "</div>"
      ],
      "text/plain": [
       "                        Model   Imbalance Handling  Accuracy  Precision  \\\n",
       "0      RandomForestClassifier  Random Oversampling     0.884      0.886   \n",
       "1      RandomForestClassifier  Random Oversampling     0.882      0.876   \n",
       "2      RandomForestClassifier                SMOTE     0.874      0.864   \n",
       "3      RandomForestClassifier                SMOTE     0.854      0.842   \n",
       "4  GradientBoostingClassifier          SMOTE Tomek     0.614      0.834   \n",
       "5  GradientBoostingClassifier          SMOTE Tomek     0.850      0.849   \n",
       "\n",
       "   Recall  F1 Score  ROC AUC Score  \n",
       "0   0.884     0.868          0.903  \n",
       "1   0.882     0.873          0.907  \n",
       "2   0.874     0.864          0.900  \n",
       "3   0.854     0.845          0.888  \n",
       "4   0.614     0.669          0.776  \n",
       "5   0.850     0.849          0.894  "
      ]
     },
     "execution_count": 72,
     "metadata": {},
     "output_type": "execute_result"
    }
   ],
   "source": [
    "results_df"
   ]
  },
  {
   "cell_type": "code",
   "execution_count": 73,
   "metadata": {},
   "outputs": [
    {
     "data": {
      "image/png": "[encoded data removed]",
      "text/plain": [
       "<Figure size 432x288 with 1 Axes>"
      ]
     },
     "metadata": {},
     "output_type": "display_data"
    }
   ],
   "source": [
    "feature_importance(gradient_boost_model)"
   ]
  },
  {
   "cell_type": "markdown",
   "metadata": {},
   "source": [
    "### Model 4: Gradient Boosting + Random Oversampling"
   ]
  },
  {
   "cell_type": "code",
   "execution_count": 74,
   "metadata": {},
   "outputs": [],
   "source": [
    "balanced = random_oversampling(split['X_train'], split['y_train'])\n",
    "balanced_rf = random_oversampling(split_rf['X_train'], split_rf['y_train'])"
   ]
  },
  {
   "cell_type": "code",
   "execution_count": 75,
   "metadata": {
    "scrolled": true
   },
   "outputs": [],
   "source": [
    "gradient_boost_model = gradientboost(balanced['X_train'], balanced['y_train'], None, True)"
   ]
  },
  {
   "cell_type": "code",
   "execution_count": 76,
   "metadata": {},
   "outputs": [
    {
     "name": "stdout",
     "output_type": "stream",
     "text": [
      "Confusion Matrix, without normalization\n",
      "[[156   0   0  24  21]\n",
      " [ 15 112   0  90  25]\n",
      " [  1   0  29   0   1]\n",
      " [ 11   0   0  17   6]\n",
      " [ 10   0   0   1  14]]\n"
     ]
    },
    {
     "data": {
      "image/png": "[encoded data removed]",
      "text/plain": [
       "<Figure size 432x288 with 2 Axes>"
      ]
     },
     "metadata": {},
     "output_type": "display_data"
    }
   ],
   "source": [
    "score_model(gradient_boost_model, \"Random Oversampling\", balanced['X_train'], balanced['y_train'], split['X_test'], split['y_test'])"
   ]
  },
  {
   "cell_type": "code",
   "execution_count": 77,
   "metadata": {
    "scrolled": true
   },
   "outputs": [
    {
     "data": {
      "text/html": [
       "<div>\n",
       "<style scoped>\n",
       "    .dataframe tbody tr th:only-of-type {\n",
       "        vertical-align: middle;\n",
       "    }\n",
       "\n",
       "    .dataframe tbody tr th {\n",
       "        vertical-align: top;\n",
       "    }\n",
       "\n",
       "    .dataframe thead th {\n",
       "        text-align: right;\n",
       "    }\n",
       "</style>\n",
       "<table border=\"1\" class=\"dataframe\">\n",
       "  <thead>\n",
       "    <tr style=\"text-align: right;\">\n",
       "      <th></th>\n",
       "      <th>Model</th>\n",
       "      <th>Imbalance Handling</th>\n",
       "      <th>Accuracy</th>\n",
       "      <th>Precision</th>\n",
       "      <th>Recall</th>\n",
       "      <th>F1 Score</th>\n",
       "      <th>ROC AUC Score</th>\n",
       "    </tr>\n",
       "  </thead>\n",
       "  <tbody>\n",
       "    <tr>\n",
       "      <td>0</td>\n",
       "      <td>RandomForestClassifier</td>\n",
       "      <td>Random Oversampling</td>\n",
       "      <td>0.884</td>\n",
       "      <td>0.886</td>\n",
       "      <td>0.884</td>\n",
       "      <td>0.868</td>\n",
       "      <td>0.903</td>\n",
       "    </tr>\n",
       "    <tr>\n",
       "      <td>1</td>\n",
       "      <td>RandomForestClassifier</td>\n",
       "      <td>Random Oversampling</td>\n",
       "      <td>0.882</td>\n",
       "      <td>0.876</td>\n",
       "      <td>0.882</td>\n",
       "      <td>0.873</td>\n",
       "      <td>0.907</td>\n",
       "    </tr>\n",
       "    <tr>\n",
       "      <td>2</td>\n",
       "      <td>RandomForestClassifier</td>\n",
       "      <td>SMOTE</td>\n",
       "      <td>0.874</td>\n",
       "      <td>0.864</td>\n",
       "      <td>0.874</td>\n",
       "      <td>0.864</td>\n",
       "      <td>0.900</td>\n",
       "    </tr>\n",
       "    <tr>\n",
       "      <td>3</td>\n",
       "      <td>RandomForestClassifier</td>\n",
       "      <td>SMOTE</td>\n",
       "      <td>0.854</td>\n",
       "      <td>0.842</td>\n",
       "      <td>0.854</td>\n",
       "      <td>0.845</td>\n",
       "      <td>0.888</td>\n",
       "    </tr>\n",
       "    <tr>\n",
       "      <td>4</td>\n",
       "      <td>GradientBoostingClassifier</td>\n",
       "      <td>SMOTE Tomek</td>\n",
       "      <td>0.614</td>\n",
       "      <td>0.834</td>\n",
       "      <td>0.614</td>\n",
       "      <td>0.669</td>\n",
       "      <td>0.776</td>\n",
       "    </tr>\n",
       "    <tr>\n",
       "      <td>5</td>\n",
       "      <td>GradientBoostingClassifier</td>\n",
       "      <td>SMOTE Tomek</td>\n",
       "      <td>0.850</td>\n",
       "      <td>0.849</td>\n",
       "      <td>0.850</td>\n",
       "      <td>0.849</td>\n",
       "      <td>0.894</td>\n",
       "    </tr>\n",
       "    <tr>\n",
       "      <td>6</td>\n",
       "      <td>GradientBoostingClassifier</td>\n",
       "      <td>Random Oversampling</td>\n",
       "      <td>0.615</td>\n",
       "      <td>0.835</td>\n",
       "      <td>0.615</td>\n",
       "      <td>0.669</td>\n",
       "      <td>0.777</td>\n",
       "    </tr>\n",
       "  </tbody>\n",
       "</table>\n",
       "</div>"
      ],
      "text/plain": [
       "                        Model   Imbalance Handling  Accuracy  Precision  \\\n",
       "0      RandomForestClassifier  Random Oversampling     0.884      0.886   \n",
       "1      RandomForestClassifier  Random Oversampling     0.882      0.876   \n",
       "2      RandomForestClassifier                SMOTE     0.874      0.864   \n",
       "3      RandomForestClassifier                SMOTE     0.854      0.842   \n",
       "4  GradientBoostingClassifier          SMOTE Tomek     0.614      0.834   \n",
       "5  GradientBoostingClassifier          SMOTE Tomek     0.850      0.849   \n",
       "6  GradientBoostingClassifier  Random Oversampling     0.615      0.835   \n",
       "\n",
       "   Recall  F1 Score  ROC AUC Score  \n",
       "0   0.884     0.868          0.903  \n",
       "1   0.882     0.873          0.907  \n",
       "2   0.874     0.864          0.900  \n",
       "3   0.854     0.845          0.888  \n",
       "4   0.614     0.669          0.776  \n",
       "5   0.850     0.849          0.894  \n",
       "6   0.615     0.669          0.777  "
      ]
     },
     "execution_count": 77,
     "metadata": {},
     "output_type": "execute_result"
    }
   ],
   "source": [
    "results_df"
   ]
  },
  {
   "cell_type": "code",
   "execution_count": 78,
   "metadata": {},
   "outputs": [],
   "source": [
    "param_grid = {\n",
    "    \"loss\":[\"deviance\"],\n",
    "    \"learning_rate\": [0.1],\n",
    "    \"min_samples_split\": [2],\n",
    "    \"min_samples_leaf\": [1],\n",
    "    \"max_depth\":[10],\n",
    "    \"max_features\":[\"auto\"],\n",
    "    \"criterion\": [\"friedman_mse\"],\n",
    "    \"subsample\":[0.8],\n",
    "    \"n_estimators\":[100]\n",
    "    }"
   ]
  },
  {
   "cell_type": "code",
   "execution_count": 79,
   "metadata": {},
   "outputs": [],
   "source": [
    "gradient_boost_model = gradientboost(balanced['X_train'], balanced['y_train'], params, False)"
   ]
  },
  {
   "cell_type": "code",
   "execution_count": 80,
   "metadata": {},
   "outputs": [
    {
     "name": "stdout",
     "output_type": "stream",
     "text": [
      "Confusion Matrix, without normalization\n",
      "[[148   2   1  29  21]\n",
      " [ 14 212   3  11   2]\n",
      " [  1   1  29   0   0]\n",
      " [ 11   1   0  21   1]\n",
      " [  6   1   0   0  18]]\n"
     ]
    },
    {
     "data": {
      "image/png": "[encoded data removed]",
      "text/plain": [
       "<Figure size 432x288 with 2 Axes>"
      ]
     },
     "metadata": {},
     "output_type": "display_data"
    }
   ],
   "source": [
    "score_model(gradient_boost_model, \"Random Oversampling\", balanced['X_train'], balanced['y_train'], split['X_test'], split['y_test'])"
   ]
  },
  {
   "cell_type": "code",
   "execution_count": 81,
   "metadata": {},
   "outputs": [
    {
     "data": {
      "text/html": [
       "<div>\n",
       "<style scoped>\n",
       "    .dataframe tbody tr th:only-of-type {\n",
       "        vertical-align: middle;\n",
       "    }\n",
       "\n",
       "    .dataframe tbody tr th {\n",
       "        vertical-align: top;\n",
       "    }\n",
       "\n",
       "    .dataframe thead th {\n",
       "        text-align: right;\n",
       "    }\n",
       "</style>\n",
       "<table border=\"1\" class=\"dataframe\">\n",
       "  <thead>\n",
       "    <tr style=\"text-align: right;\">\n",
       "      <th></th>\n",
       "      <th>Model</th>\n",
       "      <th>Imbalance Handling</th>\n",
       "      <th>Accuracy</th>\n",
       "      <th>Precision</th>\n",
       "      <th>Recall</th>\n",
       "      <th>F1 Score</th>\n",
       "      <th>ROC AUC Score</th>\n",
       "    </tr>\n",
       "  </thead>\n",
       "  <tbody>\n",
       "    <tr>\n",
       "      <td>0</td>\n",
       "      <td>RandomForestClassifier</td>\n",
       "      <td>Random Oversampling</td>\n",
       "      <td>0.884</td>\n",
       "      <td>0.886</td>\n",
       "      <td>0.884</td>\n",
       "      <td>0.868</td>\n",
       "      <td>0.903</td>\n",
       "    </tr>\n",
       "    <tr>\n",
       "      <td>1</td>\n",
       "      <td>RandomForestClassifier</td>\n",
       "      <td>Random Oversampling</td>\n",
       "      <td>0.882</td>\n",
       "      <td>0.876</td>\n",
       "      <td>0.882</td>\n",
       "      <td>0.873</td>\n",
       "      <td>0.907</td>\n",
       "    </tr>\n",
       "    <tr>\n",
       "      <td>2</td>\n",
       "      <td>RandomForestClassifier</td>\n",
       "      <td>SMOTE</td>\n",
       "      <td>0.874</td>\n",
       "      <td>0.864</td>\n",
       "      <td>0.874</td>\n",
       "      <td>0.864</td>\n",
       "      <td>0.900</td>\n",
       "    </tr>\n",
       "    <tr>\n",
       "      <td>3</td>\n",
       "      <td>RandomForestClassifier</td>\n",
       "      <td>SMOTE</td>\n",
       "      <td>0.854</td>\n",
       "      <td>0.842</td>\n",
       "      <td>0.854</td>\n",
       "      <td>0.845</td>\n",
       "      <td>0.888</td>\n",
       "    </tr>\n",
       "    <tr>\n",
       "      <td>4</td>\n",
       "      <td>GradientBoostingClassifier</td>\n",
       "      <td>SMOTE Tomek</td>\n",
       "      <td>0.614</td>\n",
       "      <td>0.834</td>\n",
       "      <td>0.614</td>\n",
       "      <td>0.669</td>\n",
       "      <td>0.776</td>\n",
       "    </tr>\n",
       "    <tr>\n",
       "      <td>5</td>\n",
       "      <td>GradientBoostingClassifier</td>\n",
       "      <td>SMOTE Tomek</td>\n",
       "      <td>0.850</td>\n",
       "      <td>0.849</td>\n",
       "      <td>0.850</td>\n",
       "      <td>0.849</td>\n",
       "      <td>0.894</td>\n",
       "    </tr>\n",
       "    <tr>\n",
       "      <td>6</td>\n",
       "      <td>GradientBoostingClassifier</td>\n",
       "      <td>Random Oversampling</td>\n",
       "      <td>0.615</td>\n",
       "      <td>0.835</td>\n",
       "      <td>0.615</td>\n",
       "      <td>0.669</td>\n",
       "      <td>0.777</td>\n",
       "    </tr>\n",
       "    <tr>\n",
       "      <td>7</td>\n",
       "      <td>GradientBoostingClassifier</td>\n",
       "      <td>Random Oversampling</td>\n",
       "      <td>0.803</td>\n",
       "      <td>0.847</td>\n",
       "      <td>0.803</td>\n",
       "      <td>0.819</td>\n",
       "      <td>0.876</td>\n",
       "    </tr>\n",
       "  </tbody>\n",
       "</table>\n",
       "</div>"
      ],
      "text/plain": [
       "                        Model   Imbalance Handling  Accuracy  Precision  \\\n",
       "0      RandomForestClassifier  Random Oversampling     0.884      0.886   \n",
       "1      RandomForestClassifier  Random Oversampling     0.882      0.876   \n",
       "2      RandomForestClassifier                SMOTE     0.874      0.864   \n",
       "3      RandomForestClassifier                SMOTE     0.854      0.842   \n",
       "4  GradientBoostingClassifier          SMOTE Tomek     0.614      0.834   \n",
       "5  GradientBoostingClassifier          SMOTE Tomek     0.850      0.849   \n",
       "6  GradientBoostingClassifier  Random Oversampling     0.615      0.835   \n",
       "7  GradientBoostingClassifier  Random Oversampling     0.803      0.847   \n",
       "\n",
       "   Recall  F1 Score  ROC AUC Score  \n",
       "0   0.884     0.868          0.903  \n",
       "1   0.882     0.873          0.907  \n",
       "2   0.874     0.864          0.900  \n",
       "3   0.854     0.845          0.888  \n",
       "4   0.614     0.669          0.776  \n",
       "5   0.850     0.849          0.894  \n",
       "6   0.615     0.669          0.777  \n",
       "7   0.803     0.819          0.876  "
      ]
     },
     "execution_count": 81,
     "metadata": {},
     "output_type": "execute_result"
    }
   ],
   "source": [
    "results_df"
   ]
  },
  {
   "cell_type": "code",
   "execution_count": 82,
   "metadata": {},
   "outputs": [
    {
     "data": {
      "image/png": "[encoded data removed]",
      "text/plain": [
       "<Figure size 432x288 with 1 Axes>"
      ]
     },
     "metadata": {},
     "output_type": "display_data"
    }
   ],
   "source": [
    "feature_importance(gradient_boost_model)"
   ]
  },
  {
   "cell_type": "markdown",
   "metadata": {},
   "source": [
    "### Model 5: Gradient Boosting + No Resampling"
   ]
  },
  {
   "cell_type": "code",
   "execution_count": 83,
   "metadata": {
    "scrolled": true
   },
   "outputs": [],
   "source": [
    "gradient_boost_model = gradientboost(split['X_train'], split['y_train'], None, True)"
   ]
  },
  {
   "cell_type": "code",
   "execution_count": 84,
   "metadata": {},
   "outputs": [
    {
     "name": "stdout",
     "output_type": "stream",
     "text": [
      "Confusion Matrix, without normalization\n",
      "[[156  39   0   0   6]\n",
      " [ 15 227   0   0   0]\n",
      " [  1   1  29   0   0]\n",
      " [ 11  18   0   5   0]\n",
      " [ 10  14   0   0   1]]\n"
     ]
    },
    {
     "data": {
      "image/png": "[encoded data removed]",
      "text/plain": [
       "<Figure size 432x288 with 2 Axes>"
      ]
     },
     "metadata": {},
     "output_type": "display_data"
    }
   ],
   "source": [
    "score_model(gradient_boost_model, \"None\", split['X_train'], split['y_train'], split['X_test'], split['y_test'])"
   ]
  },
  {
   "cell_type": "code",
   "execution_count": 85,
   "metadata": {
    "scrolled": true
   },
   "outputs": [
    {
     "data": {
      "text/html": [
       "<div>\n",
       "<style scoped>\n",
       "    .dataframe tbody tr th:only-of-type {\n",
       "        vertical-align: middle;\n",
       "    }\n",
       "\n",
       "    .dataframe tbody tr th {\n",
       "        vertical-align: top;\n",
       "    }\n",
       "\n",
       "    .dataframe thead th {\n",
       "        text-align: right;\n",
       "    }\n",
       "</style>\n",
       "<table border=\"1\" class=\"dataframe\">\n",
       "  <thead>\n",
       "    <tr style=\"text-align: right;\">\n",
       "      <th></th>\n",
       "      <th>Model</th>\n",
       "      <th>Imbalance Handling</th>\n",
       "      <th>Accuracy</th>\n",
       "      <th>Precision</th>\n",
       "      <th>Recall</th>\n",
       "      <th>F1 Score</th>\n",
       "      <th>ROC AUC Score</th>\n",
       "    </tr>\n",
       "  </thead>\n",
       "  <tbody>\n",
       "    <tr>\n",
       "      <td>0</td>\n",
       "      <td>RandomForestClassifier</td>\n",
       "      <td>Random Oversampling</td>\n",
       "      <td>0.884</td>\n",
       "      <td>0.886</td>\n",
       "      <td>0.884</td>\n",
       "      <td>0.868</td>\n",
       "      <td>0.903</td>\n",
       "    </tr>\n",
       "    <tr>\n",
       "      <td>1</td>\n",
       "      <td>RandomForestClassifier</td>\n",
       "      <td>Random Oversampling</td>\n",
       "      <td>0.882</td>\n",
       "      <td>0.876</td>\n",
       "      <td>0.882</td>\n",
       "      <td>0.873</td>\n",
       "      <td>0.907</td>\n",
       "    </tr>\n",
       "    <tr>\n",
       "      <td>2</td>\n",
       "      <td>RandomForestClassifier</td>\n",
       "      <td>SMOTE</td>\n",
       "      <td>0.874</td>\n",
       "      <td>0.864</td>\n",
       "      <td>0.874</td>\n",
       "      <td>0.864</td>\n",
       "      <td>0.900</td>\n",
       "    </tr>\n",
       "    <tr>\n",
       "      <td>3</td>\n",
       "      <td>RandomForestClassifier</td>\n",
       "      <td>SMOTE</td>\n",
       "      <td>0.854</td>\n",
       "      <td>0.842</td>\n",
       "      <td>0.854</td>\n",
       "      <td>0.845</td>\n",
       "      <td>0.888</td>\n",
       "    </tr>\n",
       "    <tr>\n",
       "      <td>4</td>\n",
       "      <td>GradientBoostingClassifier</td>\n",
       "      <td>SMOTE Tomek</td>\n",
       "      <td>0.614</td>\n",
       "      <td>0.834</td>\n",
       "      <td>0.614</td>\n",
       "      <td>0.669</td>\n",
       "      <td>0.776</td>\n",
       "    </tr>\n",
       "    <tr>\n",
       "      <td>5</td>\n",
       "      <td>GradientBoostingClassifier</td>\n",
       "      <td>SMOTE Tomek</td>\n",
       "      <td>0.850</td>\n",
       "      <td>0.849</td>\n",
       "      <td>0.850</td>\n",
       "      <td>0.849</td>\n",
       "      <td>0.894</td>\n",
       "    </tr>\n",
       "    <tr>\n",
       "      <td>6</td>\n",
       "      <td>GradientBoostingClassifier</td>\n",
       "      <td>Random Oversampling</td>\n",
       "      <td>0.615</td>\n",
       "      <td>0.835</td>\n",
       "      <td>0.615</td>\n",
       "      <td>0.669</td>\n",
       "      <td>0.777</td>\n",
       "    </tr>\n",
       "    <tr>\n",
       "      <td>7</td>\n",
       "      <td>GradientBoostingClassifier</td>\n",
       "      <td>Random Oversampling</td>\n",
       "      <td>0.803</td>\n",
       "      <td>0.847</td>\n",
       "      <td>0.803</td>\n",
       "      <td>0.819</td>\n",
       "      <td>0.876</td>\n",
       "    </tr>\n",
       "    <tr>\n",
       "      <td>8</td>\n",
       "      <td>GradientBoostingClassifier</td>\n",
       "      <td>None</td>\n",
       "      <td>0.784</td>\n",
       "      <td>0.778</td>\n",
       "      <td>0.784</td>\n",
       "      <td>0.755</td>\n",
       "      <td>0.815</td>\n",
       "    </tr>\n",
       "  </tbody>\n",
       "</table>\n",
       "</div>"
      ],
      "text/plain": [
       "                        Model   Imbalance Handling  Accuracy  Precision  \\\n",
       "0      RandomForestClassifier  Random Oversampling     0.884      0.886   \n",
       "1      RandomForestClassifier  Random Oversampling     0.882      0.876   \n",
       "2      RandomForestClassifier                SMOTE     0.874      0.864   \n",
       "3      RandomForestClassifier                SMOTE     0.854      0.842   \n",
       "4  GradientBoostingClassifier          SMOTE Tomek     0.614      0.834   \n",
       "5  GradientBoostingClassifier          SMOTE Tomek     0.850      0.849   \n",
       "6  GradientBoostingClassifier  Random Oversampling     0.615      0.835   \n",
       "7  GradientBoostingClassifier  Random Oversampling     0.803      0.847   \n",
       "8  GradientBoostingClassifier                 None     0.784      0.778   \n",
       "\n",
       "   Recall  F1 Score  ROC AUC Score  \n",
       "0   0.884     0.868          0.903  \n",
       "1   0.882     0.873          0.907  \n",
       "2   0.874     0.864          0.900  \n",
       "3   0.854     0.845          0.888  \n",
       "4   0.614     0.669          0.776  \n",
       "5   0.850     0.849          0.894  \n",
       "6   0.615     0.669          0.777  \n",
       "7   0.803     0.819          0.876  \n",
       "8   0.784     0.755          0.815  "
      ]
     },
     "execution_count": 85,
     "metadata": {},
     "output_type": "execute_result"
    }
   ],
   "source": [
    "results_df"
   ]
  },
  {
   "cell_type": "code",
   "execution_count": 86,
   "metadata": {},
   "outputs": [],
   "source": [
    "param_grid = {\n",
    "    \"loss\":[\"deviance\"],\n",
    "    \"learning_rate\": [0.1],\n",
    "    \"min_samples_split\": [2],\n",
    "    \"min_samples_leaf\": [1],\n",
    "    \"max_depth\":[10],\n",
    "    \"max_features\":[\"auto\"],\n",
    "    \"criterion\": [\"friedman_mse\"],\n",
    "    \"subsample\":[0.8],\n",
    "    \"n_estimators\":[100]\n",
    "    }\n",
    "\n",
    "\n",
    "# print(param_grid)"
   ]
  },
  {
   "cell_type": "code",
   "execution_count": 87,
   "metadata": {},
   "outputs": [],
   "source": [
    "gradient_boost_model = gradientboost(split['X_train'], split['y_train'], params, False)"
   ]
  },
  {
   "cell_type": "code",
   "execution_count": 88,
   "metadata": {},
   "outputs": [
    {
     "name": "stdout",
     "output_type": "stream",
     "text": [
      "Confusion Matrix, without normalization\n",
      "[[194   5   0   2   0]\n",
      " [ 13 229   0   0   0]\n",
      " [  1   1  29   0   0]\n",
      " [ 17   8   0   9   0]\n",
      " [ 16   1   0   0   8]]\n"
     ]
    },
    {
     "data": {
      "image/png": "[encoded data removed]",
      "text/plain": [
       "<Figure size 432x288 with 2 Axes>"
      ]
     },
     "metadata": {},
     "output_type": "display_data"
    }
   ],
   "source": [
    "score_model(gradient_boost_model, \"None\", split['X_train'], split['y_train'], split['X_test'], split['y_test'])"
   ]
  },
  {
   "cell_type": "code",
   "execution_count": 89,
   "metadata": {},
   "outputs": [
    {
     "data": {
      "text/html": [
       "<div>\n",
       "<style scoped>\n",
       "    .dataframe tbody tr th:only-of-type {\n",
       "        vertical-align: middle;\n",
       "    }\n",
       "\n",
       "    .dataframe tbody tr th {\n",
       "        vertical-align: top;\n",
       "    }\n",
       "\n",
       "    .dataframe thead th {\n",
       "        text-align: right;\n",
       "    }\n",
       "</style>\n",
       "<table border=\"1\" class=\"dataframe\">\n",
       "  <thead>\n",
       "    <tr style=\"text-align: right;\">\n",
       "      <th></th>\n",
       "      <th>Model</th>\n",
       "      <th>Imbalance Handling</th>\n",
       "      <th>Accuracy</th>\n",
       "      <th>Precision</th>\n",
       "      <th>Recall</th>\n",
       "      <th>F1 Score</th>\n",
       "      <th>ROC AUC Score</th>\n",
       "    </tr>\n",
       "  </thead>\n",
       "  <tbody>\n",
       "    <tr>\n",
       "      <td>0</td>\n",
       "      <td>RandomForestClassifier</td>\n",
       "      <td>Random Oversampling</td>\n",
       "      <td>0.884</td>\n",
       "      <td>0.886</td>\n",
       "      <td>0.884</td>\n",
       "      <td>0.868</td>\n",
       "      <td>0.903</td>\n",
       "    </tr>\n",
       "    <tr>\n",
       "      <td>1</td>\n",
       "      <td>RandomForestClassifier</td>\n",
       "      <td>Random Oversampling</td>\n",
       "      <td>0.882</td>\n",
       "      <td>0.876</td>\n",
       "      <td>0.882</td>\n",
       "      <td>0.873</td>\n",
       "      <td>0.907</td>\n",
       "    </tr>\n",
       "    <tr>\n",
       "      <td>2</td>\n",
       "      <td>RandomForestClassifier</td>\n",
       "      <td>SMOTE</td>\n",
       "      <td>0.874</td>\n",
       "      <td>0.864</td>\n",
       "      <td>0.874</td>\n",
       "      <td>0.864</td>\n",
       "      <td>0.900</td>\n",
       "    </tr>\n",
       "    <tr>\n",
       "      <td>3</td>\n",
       "      <td>RandomForestClassifier</td>\n",
       "      <td>SMOTE</td>\n",
       "      <td>0.854</td>\n",
       "      <td>0.842</td>\n",
       "      <td>0.854</td>\n",
       "      <td>0.845</td>\n",
       "      <td>0.888</td>\n",
       "    </tr>\n",
       "    <tr>\n",
       "      <td>4</td>\n",
       "      <td>GradientBoostingClassifier</td>\n",
       "      <td>SMOTE Tomek</td>\n",
       "      <td>0.614</td>\n",
       "      <td>0.834</td>\n",
       "      <td>0.614</td>\n",
       "      <td>0.669</td>\n",
       "      <td>0.776</td>\n",
       "    </tr>\n",
       "    <tr>\n",
       "      <td>5</td>\n",
       "      <td>GradientBoostingClassifier</td>\n",
       "      <td>SMOTE Tomek</td>\n",
       "      <td>0.850</td>\n",
       "      <td>0.849</td>\n",
       "      <td>0.850</td>\n",
       "      <td>0.849</td>\n",
       "      <td>0.894</td>\n",
       "    </tr>\n",
       "    <tr>\n",
       "      <td>6</td>\n",
       "      <td>GradientBoostingClassifier</td>\n",
       "      <td>Random Oversampling</td>\n",
       "      <td>0.615</td>\n",
       "      <td>0.835</td>\n",
       "      <td>0.615</td>\n",
       "      <td>0.669</td>\n",
       "      <td>0.777</td>\n",
       "    </tr>\n",
       "    <tr>\n",
       "      <td>7</td>\n",
       "      <td>GradientBoostingClassifier</td>\n",
       "      <td>Random Oversampling</td>\n",
       "      <td>0.803</td>\n",
       "      <td>0.847</td>\n",
       "      <td>0.803</td>\n",
       "      <td>0.819</td>\n",
       "      <td>0.876</td>\n",
       "    </tr>\n",
       "    <tr>\n",
       "      <td>8</td>\n",
       "      <td>GradientBoostingClassifier</td>\n",
       "      <td>None</td>\n",
       "      <td>0.784</td>\n",
       "      <td>0.778</td>\n",
       "      <td>0.784</td>\n",
       "      <td>0.755</td>\n",
       "      <td>0.815</td>\n",
       "    </tr>\n",
       "    <tr>\n",
       "      <td>9</td>\n",
       "      <td>GradientBoostingClassifier</td>\n",
       "      <td>None</td>\n",
       "      <td>0.880</td>\n",
       "      <td>0.887</td>\n",
       "      <td>0.880</td>\n",
       "      <td>0.863</td>\n",
       "      <td>0.901</td>\n",
       "    </tr>\n",
       "  </tbody>\n",
       "</table>\n",
       "</div>"
      ],
      "text/plain": [
       "                        Model   Imbalance Handling  Accuracy  Precision  \\\n",
       "0      RandomForestClassifier  Random Oversampling     0.884      0.886   \n",
       "1      RandomForestClassifier  Random Oversampling     0.882      0.876   \n",
       "2      RandomForestClassifier                SMOTE     0.874      0.864   \n",
       "3      RandomForestClassifier                SMOTE     0.854      0.842   \n",
       "4  GradientBoostingClassifier          SMOTE Tomek     0.614      0.834   \n",
       "5  GradientBoostingClassifier          SMOTE Tomek     0.850      0.849   \n",
       "6  GradientBoostingClassifier  Random Oversampling     0.615      0.835   \n",
       "7  GradientBoostingClassifier  Random Oversampling     0.803      0.847   \n",
       "8  GradientBoostingClassifier                 None     0.784      0.778   \n",
       "9  GradientBoostingClassifier                 None     0.880      0.887   \n",
       "\n",
       "   Recall  F1 Score  ROC AUC Score  \n",
       "0   0.884     0.868          0.903  \n",
       "1   0.882     0.873          0.907  \n",
       "2   0.874     0.864          0.900  \n",
       "3   0.854     0.845          0.888  \n",
       "4   0.614     0.669          0.776  \n",
       "5   0.850     0.849          0.894  \n",
       "6   0.615     0.669          0.777  \n",
       "7   0.803     0.819          0.876  \n",
       "8   0.784     0.755          0.815  \n",
       "9   0.880     0.863          0.901  "
      ]
     },
     "execution_count": 89,
     "metadata": {},
     "output_type": "execute_result"
    }
   ],
   "source": [
    "results_df"
   ]
  },
  {
   "cell_type": "code",
   "execution_count": 90,
   "metadata": {},
   "outputs": [
    {
     "data": {
      "image/png": "[encoded data removed]",
      "text/plain": [
       "<Figure size 432x288 with 1 Axes>"
      ]
     },
     "metadata": {},
     "output_type": "display_data"
    }
   ],
   "source": [
    "feature_importance(gradient_boost_model)"
   ]
  },
  {
   "cell_type": "markdown",
   "metadata": {},
   "source": [
    "## Analysis and Observations"
   ]
  },
  {
   "cell_type": "markdown",
   "metadata": {},
   "source": [
    "**The best model is the hypertuned RANDOM FOREST + RANDOM OVERSAMPLING**\n",
    "\n",
    "1. Even though we know that one of the models without resampling reached the top 5, we believed that resampling because of the significant imbalance was still important. We are proven right with the winning model which uses Random Oversampling.\n",
    "\n",
    "2. It is interesting that these top models had different top features in terms of importance. The winning models had the flavor profile: Oily as the top but the other models had one of the categorical cask variables and one of the new features engineered - flavor intesity. This shows the our feature engineering was effective to say the least.\n",
    "\n",
    "3. Our top models show a very balanced precision, recall and even F1 score. This is based on our treatment of recall and precision (and therefore Type I and Type II erros) as equal. "
   ]
  }
 ],
 "metadata": {
  "kernelspec": {
   "display_name": "Python 3",
   "language": "python",
   "name": "python3"
  },
  "language_info": {
   "codemirror_mode": {
    "name": "ipython",
    "version": 3
   },
   "file_extension": ".py",
   "mimetype": "text/x-python",
   "name": "python",
   "nbconvert_exporter": "python",
   "pygments_lexer": "ipython3",
   "version": "3.7.4"
  },
  "toc": {
   "base_numbering": 1,
   "nav_menu": {},
   "number_sections": true,
   "sideBar": true,
   "skip_h1_title": false,
   "title_cell": "Table of Contents",
   "title_sidebar": "Contents",
   "toc_cell": false,
   "toc_position": {
    "height": "calc(100% - 180px)",
    "left": "10px",
    "top": "150px",
    "width": "239.091px"
   },
   "toc_section_display": true,
   "toc_window_display": true
  }
 },
 "nbformat": 4,
 "nbformat_minor": 2
}
